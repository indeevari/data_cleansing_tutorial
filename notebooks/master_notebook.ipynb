{
 "cells": [
  {
   "cell_type": "markdown",
   "metadata": {},
   "source": [
    "# data_cleansing_tutorial\n",
    "By @jakechen\n",
    "\n",
    "Data cleansing tutorial in Pandas for Chipy Scientific SIG\n",
    "\n",
    "## Introduction\n",
    "Data cleansing is an important part of the data analysis / data science workflow because in many cases, these practices require a very clean and standardized data set. Unfortunately, in many cases raw data sets usually contain potential errors such as containing missing values, coming in different file formats, redundancies, inconsistent naming, incorrect data types, just plain wrong values, amongst many problems. All of these concerns should be addressed in the data cleansing phase so that subsequent analysis proceeds smoothly and repeatably.\n",
    "\n",
    "## Goals\n",
    "### Goals for this tutorial\n",
    "- Introduce some commonly used data cleansing techniques in Pandas including:\n",
    "    - Data import from CSV (excel and stuff to come later)\n",
    "    - Pandas Series and DataFrames\n",
    "    - Simple exploration and summaries of data\n",
    "    - Selecting data\n",
    "    - Adding and removing data\n",
    "    - Removing nulls\n",
    "    - Fixing data types\n",
    "    - Sorting\n",
    "    - Concatenation and joining\n",
    "    - Aggregations and group operations\n",
    "    - Simple plotting (more to come in a separate tutorial)\n",
    "\n",
    "### Goals for this example study\n",
    "With all the media about vaccines causing autism spiking ~2009, we want to explore the rates of vaccinations over the past few years.\n",
    "\n",
    "For this tutorial, we will focus on Polio in the state of Illinois. Some potential end goals are:\n",
    "\n",
    "- Has there been an overall decrease in the vaccination rates?\n",
    "    - Looking at data from years ending in 2005, 2010, and 2015\n",
    "- What schools decreased the most from 2005 to 2015?\n",
    "- What vaccines decreased the most from 2005 to 2015?\n",
    "- OPTIONAL: What schools are at the highest risk of decreasing further?\n",
    "\n",
    "## Dataset information\n",
    "Our dataset will come from the Illinois State Board of Education. The dataset is the Immuniation School Survey from the Health Requirements/Student Health Data page. The link is: http://www.isbe.net/research/htmls/immunization.htm \n",
    "\n",
    "## Methodology (important)\n",
    "In order to get a quick sense of the impact of the media coverage ~2009, we decided to pull data from 3 years: 2004-2005, 2009-2010, and 2014-2015.\n",
    "\n",
    "To measure the impact, we will be looking at the percentage of immunized kids to see if the media decreased (or increased?) that amount at all. This percentage will be **number of kids immunized at the school / total kids enrolled at the school**."
   ]
  },
  {
   "cell_type": "markdown",
   "metadata": {},
   "source": [
    "## Import packages\n",
    "\n",
    "For this tutorial we'll be using Pandas, so let's import that now. In addition, we usually also import Numpy (for other numerical operations) and Matplotlib (for easy plotting)."
   ]
  },
  {
   "cell_type": "code",
   "execution_count": 1,
   "metadata": {
    "collapsed": false
   },
   "outputs": [],
   "source": [
    "import pandas as pd\n",
    "import numpy as np\n",
    "import matplotlib.pyplot as plt\n",
    "# this line makes the plots appear in the notebook\n",
    "%matplotlib inline"
   ]
  },
  {
   "cell_type": "markdown",
   "metadata": {},
   "source": [
    "## Data Format, Import, and Verification"
   ]
  },
  {
   "cell_type": "markdown",
   "metadata": {},
   "source": [
    "Before we imported the data, we should note that we first pre-processed the raw data (Excel files from the website) by exporting the relevant sheets into CSV. We will now load these CSV files into Pandas.\n",
    "\n",
    "The reason we use CSV is because it is an very commonly used between file format that can be transitioned to and from many different software platforms."
   ]
  },
  {
   "cell_type": "markdown",
   "metadata": {},
   "source": [
    "### Years 04-05"
   ]
  },
  {
   "cell_type": "markdown",
   "metadata": {},
   "source": [
    "Lets begin by reading the school year of 2004-2005."
   ]
  },
  {
   "cell_type": "code",
   "execution_count": 2,
   "metadata": {
    "collapsed": true
   },
   "outputs": [],
   "source": [
    "df04 = pd.read_csv('../data/immunization_04-05.csv')"
   ]
  },
  {
   "cell_type": "markdown",
   "metadata": {},
   "source": [
    "The *head()* method is a quick way to see the first 5 rows."
   ]
  },
  {
   "cell_type": "code",
   "execution_count": 3,
   "metadata": {
    "collapsed": false
   },
   "outputs": [
    {
     "data": {
      "text/html": [
       "<div>\n",
       "<table border=\"1\" class=\"dataframe\">\n",
       "  <thead>\n",
       "    <tr style=\"text-align: right;\">\n",
       "      <th></th>\n",
       "      <th>Immunization School Survey Report 2004-05</th>\n",
       "      <th>Unnamed: 1</th>\n",
       "      <th>Unnamed: 2</th>\n",
       "      <th>Unnamed: 3</th>\n",
       "      <th>Unnamed: 4</th>\n",
       "      <th>Unnamed: 5</th>\n",
       "      <th>Unnamed: 6</th>\n",
       "      <th>Unnamed: 7</th>\n",
       "      <th>Unnamed: 8</th>\n",
       "      <th>Unnamed: 9</th>\n",
       "      <th>...</th>\n",
       "      <th>Unnamed: 53</th>\n",
       "      <th>Unnamed: 54</th>\n",
       "      <th>Unnamed: 55</th>\n",
       "      <th>Unnamed: 56</th>\n",
       "      <th>Unnamed: 57</th>\n",
       "      <th>Unnamed: 58</th>\n",
       "      <th>Unnamed: 59</th>\n",
       "      <th>Unnamed: 60</th>\n",
       "      <th>Unnamed: 61</th>\n",
       "      <th>Unnamed: 62</th>\n",
       "    </tr>\n",
       "  </thead>\n",
       "  <tbody>\n",
       "    <tr>\n",
       "      <th>0</th>\n",
       "      <td>RCDT</td>\n",
       "      <td>Region</td>\n",
       "      <td>District</td>\n",
       "      <td>School</td>\n",
       "      <td>Total Sch. Enroll.</td>\n",
       "      <td>Total - NC</td>\n",
       "      <td>Unduplic.</td>\n",
       "      <td>Total Excluded</td>\n",
       "      <td>NC-PE Only</td>\n",
       "      <td>Polio Prot.</td>\n",
       "      <td>...</td>\n",
       "      <td>Cpox Prot.</td>\n",
       "      <td>Cpox Rel.</td>\n",
       "      <td>Cpox Med.</td>\n",
       "      <td>Cpox AS</td>\n",
       "      <td>Cpox UP/NC</td>\n",
       "      <td>Cpox Total</td>\n",
       "      <td>NaN</td>\n",
       "      <td>NaN</td>\n",
       "      <td>NaN</td>\n",
       "      <td>NaN</td>\n",
       "    </tr>\n",
       "    <tr>\n",
       "      <th>1</th>\n",
       "      <td>Adams County</td>\n",
       "      <td>NaN</td>\n",
       "      <td>NaN</td>\n",
       "      <td>NaN</td>\n",
       "      <td>NaN</td>\n",
       "      <td>NaN</td>\n",
       "      <td>NaN</td>\n",
       "      <td>NaN</td>\n",
       "      <td>NaN</td>\n",
       "      <td>NaN</td>\n",
       "      <td>...</td>\n",
       "      <td>NaN</td>\n",
       "      <td>NaN</td>\n",
       "      <td>NaN</td>\n",
       "      <td>NaN</td>\n",
       "      <td>NaN</td>\n",
       "      <td>NaN</td>\n",
       "      <td>NaN</td>\n",
       "      <td>NaN</td>\n",
       "      <td>NaN</td>\n",
       "      <td>NaN</td>\n",
       "    </tr>\n",
       "    <tr>\n",
       "      <th>2</th>\n",
       "      <td>01001001026</td>\n",
       "      <td>01</td>\n",
       "      <td>0010</td>\n",
       "      <td>0001</td>\n",
       "      <td>279</td>\n",
       "      <td>2</td>\n",
       "      <td>2</td>\n",
       "      <td>2</td>\n",
       "      <td>0</td>\n",
       "      <td>277</td>\n",
       "      <td>...</td>\n",
       "      <td>0</td>\n",
       "      <td>0</td>\n",
       "      <td>0</td>\n",
       "      <td>0</td>\n",
       "      <td>0</td>\n",
       "      <td>0</td>\n",
       "      <td>NaN</td>\n",
       "      <td>NaN</td>\n",
       "      <td>NaN</td>\n",
       "      <td>NaN</td>\n",
       "    </tr>\n",
       "    <tr>\n",
       "      <th>3</th>\n",
       "      <td>01001002026</td>\n",
       "      <td>01</td>\n",
       "      <td>0020</td>\n",
       "      <td>2002</td>\n",
       "      <td>278</td>\n",
       "      <td>1</td>\n",
       "      <td>1</td>\n",
       "      <td>1</td>\n",
       "      <td>0</td>\n",
       "      <td>276</td>\n",
       "      <td>...</td>\n",
       "      <td>138</td>\n",
       "      <td>0</td>\n",
       "      <td>0</td>\n",
       "      <td>1</td>\n",
       "      <td>1</td>\n",
       "      <td>140</td>\n",
       "      <td>NaN</td>\n",
       "      <td>NaN</td>\n",
       "      <td>NaN</td>\n",
       "      <td>NaN</td>\n",
       "    </tr>\n",
       "    <tr>\n",
       "      <th>4</th>\n",
       "      <td>01001002026</td>\n",
       "      <td>01</td>\n",
       "      <td>0020</td>\n",
       "      <td>2002</td>\n",
       "      <td>419</td>\n",
       "      <td>0</td>\n",
       "      <td>0</td>\n",
       "      <td>0</td>\n",
       "      <td>0</td>\n",
       "      <td>419</td>\n",
       "      <td>...</td>\n",
       "      <td>161</td>\n",
       "      <td>0</td>\n",
       "      <td>0</td>\n",
       "      <td>0</td>\n",
       "      <td>0</td>\n",
       "      <td>161</td>\n",
       "      <td>NaN</td>\n",
       "      <td>NaN</td>\n",
       "      <td>NaN</td>\n",
       "      <td>NaN</td>\n",
       "    </tr>\n",
       "  </tbody>\n",
       "</table>\n",
       "<p>5 rows × 63 columns</p>\n",
       "</div>"
      ],
      "text/plain": [
       "  Immunization School Survey Report 2004-05 Unnamed: 1 Unnamed: 2 Unnamed: 3  \\\n",
       "0                                      RCDT     Region   District     School   \n",
       "1                              Adams County        NaN        NaN        NaN   \n",
       "2                               01001001026         01       0010       0001   \n",
       "3                               01001002026         01       0020       2002   \n",
       "4                               01001002026         01       0020       2002   \n",
       "\n",
       "           Unnamed: 4  Unnamed: 5 Unnamed: 6      Unnamed: 7  Unnamed: 8  \\\n",
       "0  Total Sch. Enroll.  Total - NC  Unduplic.  Total Excluded  NC-PE Only   \n",
       "1                 NaN         NaN        NaN             NaN         NaN   \n",
       "2                 279           2          2               2           0   \n",
       "3                 278           1          1               1           0   \n",
       "4                 419           0          0               0           0   \n",
       "\n",
       "    Unnamed: 9     ...     Unnamed: 53 Unnamed: 54 Unnamed: 55 Unnamed: 56  \\\n",
       "0  Polio Prot.     ...      Cpox Prot.   Cpox Rel.   Cpox Med.     Cpox AS   \n",
       "1          NaN     ...             NaN         NaN         NaN         NaN   \n",
       "2          277     ...               0           0           0           0   \n",
       "3          276     ...             138           0           0           1   \n",
       "4          419     ...             161           0           0           0   \n",
       "\n",
       "  Unnamed: 57 Unnamed: 58 Unnamed: 59 Unnamed: 60 Unnamed: 61 Unnamed: 62  \n",
       "0  Cpox UP/NC  Cpox Total         NaN         NaN         NaN         NaN  \n",
       "1         NaN         NaN         NaN         NaN         NaN         NaN  \n",
       "2           0           0         NaN         NaN         NaN         NaN  \n",
       "3           1         140         NaN         NaN         NaN         NaN  \n",
       "4           0         161         NaN         NaN         NaN         NaN  \n",
       "\n",
       "[5 rows x 63 columns]"
      ]
     },
     "execution_count": 3,
     "metadata": {},
     "output_type": "execute_result"
    }
   ],
   "source": [
    "df04.head()"
   ]
  },
  {
   "cell_type": "markdown",
   "metadata": {},
   "source": [
    "Here we see that the above header information was imported incorrectly. The correct headers were imported into row 0. Because we are lazy, we will re-import the data and drop the first row instead of formatting this current version."
   ]
  },
  {
   "cell_type": "code",
   "execution_count": 4,
   "metadata": {
    "collapsed": false
   },
   "outputs": [
    {
     "data": {
      "text/html": [
       "<div>\n",
       "<table border=\"1\" class=\"dataframe\">\n",
       "  <thead>\n",
       "    <tr style=\"text-align: right;\">\n",
       "      <th></th>\n",
       "      <th>RCDT</th>\n",
       "      <th>Region</th>\n",
       "      <th>District</th>\n",
       "      <th>School</th>\n",
       "      <th>Total Sch. Enroll.</th>\n",
       "      <th>Total - NC</th>\n",
       "      <th>Unduplic.</th>\n",
       "      <th>Total Excluded</th>\n",
       "      <th>NC-PE Only</th>\n",
       "      <th>Polio Prot.</th>\n",
       "      <th>...</th>\n",
       "      <th>Cpox Prot.</th>\n",
       "      <th>Cpox Rel.</th>\n",
       "      <th>Cpox Med.</th>\n",
       "      <th>Cpox AS</th>\n",
       "      <th>Cpox UP/NC</th>\n",
       "      <th>Cpox Total</th>\n",
       "      <th>Unnamed: 59</th>\n",
       "      <th>Unnamed: 60</th>\n",
       "      <th>Unnamed: 61</th>\n",
       "      <th>Unnamed: 62</th>\n",
       "    </tr>\n",
       "  </thead>\n",
       "  <tbody>\n",
       "    <tr>\n",
       "      <th>0</th>\n",
       "      <td>Adams County</td>\n",
       "      <td>NaN</td>\n",
       "      <td>NaN</td>\n",
       "      <td>NaN</td>\n",
       "      <td>NaN</td>\n",
       "      <td>NaN</td>\n",
       "      <td>NaN</td>\n",
       "      <td>NaN</td>\n",
       "      <td>NaN</td>\n",
       "      <td>NaN</td>\n",
       "      <td>...</td>\n",
       "      <td>NaN</td>\n",
       "      <td>NaN</td>\n",
       "      <td>NaN</td>\n",
       "      <td>NaN</td>\n",
       "      <td>NaN</td>\n",
       "      <td>NaN</td>\n",
       "      <td>NaN</td>\n",
       "      <td>NaN</td>\n",
       "      <td>NaN</td>\n",
       "      <td>NaN</td>\n",
       "    </tr>\n",
       "    <tr>\n",
       "      <th>1</th>\n",
       "      <td>01001001026</td>\n",
       "      <td>1</td>\n",
       "      <td>0010</td>\n",
       "      <td>0001</td>\n",
       "      <td>279</td>\n",
       "      <td>2</td>\n",
       "      <td>2</td>\n",
       "      <td>2</td>\n",
       "      <td>0</td>\n",
       "      <td>277</td>\n",
       "      <td>...</td>\n",
       "      <td>0</td>\n",
       "      <td>0</td>\n",
       "      <td>0</td>\n",
       "      <td>0</td>\n",
       "      <td>0</td>\n",
       "      <td>0</td>\n",
       "      <td>NaN</td>\n",
       "      <td>NaN</td>\n",
       "      <td>NaN</td>\n",
       "      <td>NaN</td>\n",
       "    </tr>\n",
       "    <tr>\n",
       "      <th>2</th>\n",
       "      <td>01001002026</td>\n",
       "      <td>1</td>\n",
       "      <td>0020</td>\n",
       "      <td>2002</td>\n",
       "      <td>278</td>\n",
       "      <td>1</td>\n",
       "      <td>1</td>\n",
       "      <td>1</td>\n",
       "      <td>0</td>\n",
       "      <td>276</td>\n",
       "      <td>...</td>\n",
       "      <td>138</td>\n",
       "      <td>0</td>\n",
       "      <td>0</td>\n",
       "      <td>1</td>\n",
       "      <td>1</td>\n",
       "      <td>140</td>\n",
       "      <td>NaN</td>\n",
       "      <td>NaN</td>\n",
       "      <td>NaN</td>\n",
       "      <td>NaN</td>\n",
       "    </tr>\n",
       "    <tr>\n",
       "      <th>3</th>\n",
       "      <td>01001002026</td>\n",
       "      <td>1</td>\n",
       "      <td>0020</td>\n",
       "      <td>2002</td>\n",
       "      <td>419</td>\n",
       "      <td>0</td>\n",
       "      <td>0</td>\n",
       "      <td>0</td>\n",
       "      <td>0</td>\n",
       "      <td>419</td>\n",
       "      <td>...</td>\n",
       "      <td>161</td>\n",
       "      <td>0</td>\n",
       "      <td>0</td>\n",
       "      <td>0</td>\n",
       "      <td>0</td>\n",
       "      <td>161</td>\n",
       "      <td>NaN</td>\n",
       "      <td>NaN</td>\n",
       "      <td>NaN</td>\n",
       "      <td>NaN</td>\n",
       "    </tr>\n",
       "    <tr>\n",
       "      <th>4</th>\n",
       "      <td>01001002X06</td>\n",
       "      <td>1</td>\n",
       "      <td>002X</td>\n",
       "      <td>n/a</td>\n",
       "      <td>197</td>\n",
       "      <td>0</td>\n",
       "      <td>0</td>\n",
       "      <td>0</td>\n",
       "      <td>0</td>\n",
       "      <td>193</td>\n",
       "      <td>...</td>\n",
       "      <td>101</td>\n",
       "      <td>2</td>\n",
       "      <td>0</td>\n",
       "      <td>0</td>\n",
       "      <td>0</td>\n",
       "      <td>103</td>\n",
       "      <td>NaN</td>\n",
       "      <td>NaN</td>\n",
       "      <td>NaN</td>\n",
       "      <td>NaN</td>\n",
       "    </tr>\n",
       "  </tbody>\n",
       "</table>\n",
       "<p>5 rows × 63 columns</p>\n",
       "</div>"
      ],
      "text/plain": [
       "           RCDT  Region District School Total Sch. Enroll. Total - NC  \\\n",
       "0  Adams County     NaN      NaN    NaN                NaN        NaN   \n",
       "1   01001001026       1     0010   0001                279          2   \n",
       "2   01001002026       1     0020   2002                278          1   \n",
       "3   01001002026       1     0020   2002                419          0   \n",
       "4   01001002X06       1     002X    n/a                197          0   \n",
       "\n",
       "  Unduplic. Total Excluded NC-PE Only Polio Prot.     ...     Cpox Prot.  \\\n",
       "0       NaN            NaN        NaN         NaN     ...            NaN   \n",
       "1         2              2          0         277     ...              0   \n",
       "2         1              1          0         276     ...            138   \n",
       "3         0              0          0         419     ...            161   \n",
       "4         0              0          0         193     ...            101   \n",
       "\n",
       "   Cpox Rel. Cpox Med. Cpox AS Cpox UP/NC Cpox Total Unnamed: 59 Unnamed: 60  \\\n",
       "0        NaN       NaN     NaN        NaN        NaN         NaN         NaN   \n",
       "1          0         0       0          0          0         NaN         NaN   \n",
       "2          0         0       1          1        140         NaN         NaN   \n",
       "3          0         0       0          0        161         NaN         NaN   \n",
       "4          2         0       0          0        103         NaN         NaN   \n",
       "\n",
       "  Unnamed: 61 Unnamed: 62  \n",
       "0         NaN         NaN  \n",
       "1         NaN         NaN  \n",
       "2         NaN         NaN  \n",
       "3         NaN         NaN  \n",
       "4         NaN         NaN  \n",
       "\n",
       "[5 rows x 63 columns]"
      ]
     },
     "execution_count": 4,
     "metadata": {},
     "output_type": "execute_result"
    }
   ],
   "source": [
    "# use the skiprows argument here because we don't need the first row\n",
    "df04 = pd.read_csv('../data/immunization_04-05.csv', skiprows=1)\n",
    "df04.head()"
   ]
  },
  {
   "cell_type": "markdown",
   "metadata": {},
   "source": [
    "Cool, the columns are correct but per our goals we only need the following columns:\n",
    "1. school distict\n",
    "2. school id\n",
    "3. total enrollment\n",
    "4. polio vaccinations\n",
    "\n",
    "One easy way to do this is to simply select the columns we want. This is done using the *ix[]* indexing function. This should be very familiar for people who used R."
   ]
  },
  {
   "cell_type": "code",
   "execution_count": 5,
   "metadata": {
    "collapsed": false
   },
   "outputs": [
    {
     "data": {
      "text/html": [
       "<div>\n",
       "<table border=\"1\" class=\"dataframe\">\n",
       "  <thead>\n",
       "    <tr style=\"text-align: right;\">\n",
       "      <th></th>\n",
       "      <th>RCDT</th>\n",
       "      <th>School</th>\n",
       "      <th>Total Sch. Enroll.</th>\n",
       "      <th>Polio Prot.</th>\n",
       "    </tr>\n",
       "  </thead>\n",
       "  <tbody>\n",
       "    <tr>\n",
       "      <th>0</th>\n",
       "      <td>Adams County</td>\n",
       "      <td>NaN</td>\n",
       "      <td>NaN</td>\n",
       "      <td>NaN</td>\n",
       "    </tr>\n",
       "    <tr>\n",
       "      <th>1</th>\n",
       "      <td>01001001026</td>\n",
       "      <td>0001</td>\n",
       "      <td>279</td>\n",
       "      <td>277</td>\n",
       "    </tr>\n",
       "    <tr>\n",
       "      <th>2</th>\n",
       "      <td>01001002026</td>\n",
       "      <td>2002</td>\n",
       "      <td>278</td>\n",
       "      <td>276</td>\n",
       "    </tr>\n",
       "    <tr>\n",
       "      <th>3</th>\n",
       "      <td>01001002026</td>\n",
       "      <td>2002</td>\n",
       "      <td>419</td>\n",
       "      <td>419</td>\n",
       "    </tr>\n",
       "    <tr>\n",
       "      <th>4</th>\n",
       "      <td>01001002X06</td>\n",
       "      <td>n/a</td>\n",
       "      <td>197</td>\n",
       "      <td>193</td>\n",
       "    </tr>\n",
       "  </tbody>\n",
       "</table>\n",
       "</div>"
      ],
      "text/plain": [
       "           RCDT School Total Sch. Enroll. Polio Prot.\n",
       "0  Adams County    NaN                NaN         NaN\n",
       "1   01001001026   0001                279         277\n",
       "2   01001002026   2002                278         276\n",
       "3   01001002026   2002                419         419\n",
       "4   01001002X06    n/a                197         193"
      ]
     },
     "execution_count": 5,
     "metadata": {},
     "output_type": "execute_result"
    }
   ],
   "source": [
    "# name the columns we want to keep, the only select those columns\n",
    "columns_to_keep = ['RCDT', 'School', 'Total Sch. Enroll.', 'Polio Prot.']\n",
    "df04 = df04.ix[:, columns_to_keep] # takes all rows, takes only the columns in the array columns_to_keep\n",
    "df04.head()"
   ]
  },
  {
   "cell_type": "markdown",
   "metadata": {},
   "source": [
    "Interesting, the first row has NaN. Looking back at the table above, this is because the original table has some extra rows for Counties e.g. \"Adams County\".\n",
    "\n",
    "Let's simply drop the NaNs in this table using the *dropna()* method."
   ]
  },
  {
   "cell_type": "code",
   "execution_count": 6,
   "metadata": {
    "collapsed": false
   },
   "outputs": [
    {
     "data": {
      "text/html": [
       "<div>\n",
       "<table border=\"1\" class=\"dataframe\">\n",
       "  <thead>\n",
       "    <tr style=\"text-align: right;\">\n",
       "      <th></th>\n",
       "      <th>RCDT</th>\n",
       "      <th>School</th>\n",
       "      <th>Total Sch. Enroll.</th>\n",
       "      <th>Polio Prot.</th>\n",
       "    </tr>\n",
       "  </thead>\n",
       "  <tbody>\n",
       "    <tr>\n",
       "      <th>1</th>\n",
       "      <td>01001001026</td>\n",
       "      <td>0001</td>\n",
       "      <td>279</td>\n",
       "      <td>277</td>\n",
       "    </tr>\n",
       "    <tr>\n",
       "      <th>2</th>\n",
       "      <td>01001002026</td>\n",
       "      <td>2002</td>\n",
       "      <td>278</td>\n",
       "      <td>276</td>\n",
       "    </tr>\n",
       "    <tr>\n",
       "      <th>3</th>\n",
       "      <td>01001002026</td>\n",
       "      <td>2002</td>\n",
       "      <td>419</td>\n",
       "      <td>419</td>\n",
       "    </tr>\n",
       "    <tr>\n",
       "      <th>4</th>\n",
       "      <td>01001002X06</td>\n",
       "      <td>n/a</td>\n",
       "      <td>197</td>\n",
       "      <td>193</td>\n",
       "    </tr>\n",
       "    <tr>\n",
       "      <th>5</th>\n",
       "      <td>01001003026</td>\n",
       "      <td>1001</td>\n",
       "      <td>330</td>\n",
       "      <td>329</td>\n",
       "    </tr>\n",
       "  </tbody>\n",
       "</table>\n",
       "</div>"
      ],
      "text/plain": [
       "          RCDT School Total Sch. Enroll. Polio Prot.\n",
       "1  01001001026   0001                279         277\n",
       "2  01001002026   2002                278         276\n",
       "3  01001002026   2002                419         419\n",
       "4  01001002X06    n/a                197         193\n",
       "5  01001003026   1001                330         329"
      ]
     },
     "execution_count": 6,
     "metadata": {},
     "output_type": "execute_result"
    }
   ],
   "source": [
    "df04.dropna(inplace=True) # inplace=True replaces the previous data frame.\n",
    "                          # This is the same as df04 = df04.dropna(inplace=False)\n",
    "df04.head()"
   ]
  },
  {
   "cell_type": "markdown",
   "metadata": {},
   "source": [
    "#### Summary Statistics"
   ]
  },
  {
   "cell_type": "markdown",
   "metadata": {},
   "source": [
    "Instead of looking just the first 5 rows, let's check out some summary statistics. This is done using the *describe()* method."
   ]
  },
  {
   "cell_type": "code",
   "execution_count": 7,
   "metadata": {
    "collapsed": false
   },
   "outputs": [
    {
     "data": {
      "text/html": [
       "<div>\n",
       "<table border=\"1\" class=\"dataframe\">\n",
       "  <thead>\n",
       "    <tr style=\"text-align: right;\">\n",
       "      <th></th>\n",
       "      <th>RCDT</th>\n",
       "      <th>School</th>\n",
       "      <th>Total Sch. Enroll.</th>\n",
       "      <th>Polio Prot.</th>\n",
       "    </tr>\n",
       "  </thead>\n",
       "  <tbody>\n",
       "    <tr>\n",
       "      <th>count</th>\n",
       "      <td>5179</td>\n",
       "      <td>5179</td>\n",
       "      <td>5179</td>\n",
       "      <td>5179</td>\n",
       "    </tr>\n",
       "    <tr>\n",
       "      <th>unique</th>\n",
       "      <td>2045</td>\n",
       "      <td>701</td>\n",
       "      <td>1237</td>\n",
       "      <td>1240</td>\n",
       "    </tr>\n",
       "    <tr>\n",
       "      <th>top</th>\n",
       "      <td>15016299025</td>\n",
       "      <td>n/a</td>\n",
       "      <td>231</td>\n",
       "      <td>127</td>\n",
       "    </tr>\n",
       "    <tr>\n",
       "      <th>freq</th>\n",
       "      <td>594</td>\n",
       "      <td>1165</td>\n",
       "      <td>19</td>\n",
       "      <td>16</td>\n",
       "    </tr>\n",
       "  </tbody>\n",
       "</table>\n",
       "</div>"
      ],
      "text/plain": [
       "               RCDT School Total Sch. Enroll. Polio Prot.\n",
       "count          5179   5179               5179        5179\n",
       "unique         2045    701               1237        1240\n",
       "top     15016299025    n/a                231         127\n",
       "freq            594   1165                 19          16"
      ]
     },
     "execution_count": 7,
     "metadata": {},
     "output_type": "execute_result"
    }
   ],
   "source": [
    "df04.describe()"
   ]
  },
  {
   "cell_type": "markdown",
   "metadata": {},
   "source": [
    "We should also make take a look at the datatypes (e.g. string, number) of these columns using *dtypes()*."
   ]
  },
  {
   "cell_type": "code",
   "execution_count": 8,
   "metadata": {
    "collapsed": false
   },
   "outputs": [
    {
     "data": {
      "text/plain": [
       "RCDT                  object\n",
       "School                object\n",
       "Total Sch. Enroll.    object\n",
       "Polio Prot.           object\n",
       "dtype: object"
      ]
     },
     "execution_count": 8,
     "metadata": {},
     "output_type": "execute_result"
    }
   ],
   "source": [
    "df04.dtypes"
   ]
  },
  {
   "cell_type": "markdown",
   "metadata": {},
   "source": [
    "Uh oh, the two columns are supposed to be numerical, not strings (denoted here as objects).\n",
    "\n",
    "Let's convert these now. To convert an entire column, we use the *applymap()* method. This essentially takes each value of the column and applies the function. In our case, the function is to change the datatype to int."
   ]
  },
  {
   "cell_type": "code",
   "execution_count": 9,
   "metadata": {
    "collapsed": false
   },
   "outputs": [
    {
     "ename": "ValueError",
     "evalue": "(\"invalid literal for int() with base 10: '1,628'\", u'occurred at index Total Sch. Enroll.')",
     "output_type": "error",
     "traceback": [
      "\u001b[1;31m---------------------------------------------------------------------------\u001b[0m",
      "\u001b[1;31mValueError\u001b[0m                                Traceback (most recent call last)",
      "\u001b[1;32m<ipython-input-9-a05ae447d8a3>\u001b[0m in \u001b[0;36m<module>\u001b[1;34m()\u001b[0m\n\u001b[0;32m      1\u001b[0m \u001b[1;31m# inplace isn't available for this function, thus asign manually\u001b[0m\u001b[1;33m\u001b[0m\u001b[1;33m\u001b[0m\u001b[0m\n\u001b[0;32m      2\u001b[0m \u001b[0mcols\u001b[0m \u001b[1;33m=\u001b[0m \u001b[1;33m[\u001b[0m\u001b[1;34m'Total Sch. Enroll.'\u001b[0m\u001b[1;33m,\u001b[0m \u001b[1;34m'Polio Prot.'\u001b[0m\u001b[1;33m]\u001b[0m\u001b[1;33m\u001b[0m\u001b[0m\n\u001b[1;32m----> 3\u001b[1;33m \u001b[0mdf04\u001b[0m\u001b[1;33m[\u001b[0m\u001b[0mcols\u001b[0m\u001b[1;33m]\u001b[0m \u001b[1;33m=\u001b[0m \u001b[0mdf04\u001b[0m\u001b[1;33m[\u001b[0m\u001b[0mcols\u001b[0m\u001b[1;33m]\u001b[0m\u001b[1;33m.\u001b[0m\u001b[0mapplymap\u001b[0m\u001b[1;33m(\u001b[0m\u001b[1;32mlambda\u001b[0m \u001b[0mx\u001b[0m\u001b[1;33m:\u001b[0m \u001b[0mint\u001b[0m\u001b[1;33m(\u001b[0m\u001b[0mx\u001b[0m\u001b[1;33m)\u001b[0m\u001b[1;33m)\u001b[0m\u001b[1;33m\u001b[0m\u001b[0m\n\u001b[0m\u001b[0;32m      4\u001b[0m \u001b[0mdf04\u001b[0m\u001b[1;33m.\u001b[0m\u001b[0mhead\u001b[0m\u001b[1;33m(\u001b[0m\u001b[1;33m)\u001b[0m\u001b[1;33m\u001b[0m\u001b[0m\n",
      "\u001b[1;32m/home/jake/anaconda/lib/python2.7/site-packages/pandas/core/frame.pyc\u001b[0m in \u001b[0;36mapplymap\u001b[1;34m(self, func)\u001b[0m\n\u001b[0;32m   3885\u001b[0m                 \u001b[0mx\u001b[0m \u001b[1;33m=\u001b[0m \u001b[0mlib\u001b[0m\u001b[1;33m.\u001b[0m\u001b[0mmap_infer\u001b[0m\u001b[1;33m(\u001b[0m\u001b[0m_values_from_object\u001b[0m\u001b[1;33m(\u001b[0m\u001b[0mx\u001b[0m\u001b[1;33m)\u001b[0m\u001b[1;33m,\u001b[0m \u001b[0mf\u001b[0m\u001b[1;33m)\u001b[0m\u001b[1;33m\u001b[0m\u001b[0m\n\u001b[0;32m   3886\u001b[0m             \u001b[1;32mreturn\u001b[0m \u001b[0mlib\u001b[0m\u001b[1;33m.\u001b[0m\u001b[0mmap_infer\u001b[0m\u001b[1;33m(\u001b[0m\u001b[0m_values_from_object\u001b[0m\u001b[1;33m(\u001b[0m\u001b[0mx\u001b[0m\u001b[1;33m)\u001b[0m\u001b[1;33m,\u001b[0m \u001b[0mfunc\u001b[0m\u001b[1;33m)\u001b[0m\u001b[1;33m\u001b[0m\u001b[0m\n\u001b[1;32m-> 3887\u001b[1;33m         \u001b[1;32mreturn\u001b[0m \u001b[0mself\u001b[0m\u001b[1;33m.\u001b[0m\u001b[0mapply\u001b[0m\u001b[1;33m(\u001b[0m\u001b[0minfer\u001b[0m\u001b[1;33m)\u001b[0m\u001b[1;33m\u001b[0m\u001b[0m\n\u001b[0m\u001b[0;32m   3888\u001b[0m \u001b[1;33m\u001b[0m\u001b[0m\n\u001b[0;32m   3889\u001b[0m     \u001b[1;31m#----------------------------------------------------------------------\u001b[0m\u001b[1;33m\u001b[0m\u001b[1;33m\u001b[0m\u001b[0m\n",
      "\u001b[1;32m/home/jake/anaconda/lib/python2.7/site-packages/pandas/core/frame.pyc\u001b[0m in \u001b[0;36mapply\u001b[1;34m(self, func, axis, broadcast, raw, reduce, args, **kwds)\u001b[0m\n\u001b[0;32m   3716\u001b[0m                     \u001b[1;32mif\u001b[0m \u001b[0mreduce\u001b[0m \u001b[1;32mis\u001b[0m \u001b[0mNone\u001b[0m\u001b[1;33m:\u001b[0m\u001b[1;33m\u001b[0m\u001b[0m\n\u001b[0;32m   3717\u001b[0m                         \u001b[0mreduce\u001b[0m \u001b[1;33m=\u001b[0m \u001b[0mTrue\u001b[0m\u001b[1;33m\u001b[0m\u001b[0m\n\u001b[1;32m-> 3718\u001b[1;33m                     \u001b[1;32mreturn\u001b[0m \u001b[0mself\u001b[0m\u001b[1;33m.\u001b[0m\u001b[0m_apply_standard\u001b[0m\u001b[1;33m(\u001b[0m\u001b[0mf\u001b[0m\u001b[1;33m,\u001b[0m \u001b[0maxis\u001b[0m\u001b[1;33m,\u001b[0m \u001b[0mreduce\u001b[0m\u001b[1;33m=\u001b[0m\u001b[0mreduce\u001b[0m\u001b[1;33m)\u001b[0m\u001b[1;33m\u001b[0m\u001b[0m\n\u001b[0m\u001b[0;32m   3719\u001b[0m             \u001b[1;32melse\u001b[0m\u001b[1;33m:\u001b[0m\u001b[1;33m\u001b[0m\u001b[0m\n\u001b[0;32m   3720\u001b[0m                 \u001b[1;32mreturn\u001b[0m \u001b[0mself\u001b[0m\u001b[1;33m.\u001b[0m\u001b[0m_apply_broadcast\u001b[0m\u001b[1;33m(\u001b[0m\u001b[0mf\u001b[0m\u001b[1;33m,\u001b[0m \u001b[0maxis\u001b[0m\u001b[1;33m)\u001b[0m\u001b[1;33m\u001b[0m\u001b[0m\n",
      "\u001b[1;32m/home/jake/anaconda/lib/python2.7/site-packages/pandas/core/frame.pyc\u001b[0m in \u001b[0;36m_apply_standard\u001b[1;34m(self, func, axis, ignore_failures, reduce)\u001b[0m\n\u001b[0;32m   3806\u001b[0m             \u001b[1;32mtry\u001b[0m\u001b[1;33m:\u001b[0m\u001b[1;33m\u001b[0m\u001b[0m\n\u001b[0;32m   3807\u001b[0m                 \u001b[1;32mfor\u001b[0m \u001b[0mi\u001b[0m\u001b[1;33m,\u001b[0m \u001b[0mv\u001b[0m \u001b[1;32min\u001b[0m \u001b[0menumerate\u001b[0m\u001b[1;33m(\u001b[0m\u001b[0mseries_gen\u001b[0m\u001b[1;33m)\u001b[0m\u001b[1;33m:\u001b[0m\u001b[1;33m\u001b[0m\u001b[0m\n\u001b[1;32m-> 3808\u001b[1;33m                     \u001b[0mresults\u001b[0m\u001b[1;33m[\u001b[0m\u001b[0mi\u001b[0m\u001b[1;33m]\u001b[0m \u001b[1;33m=\u001b[0m \u001b[0mfunc\u001b[0m\u001b[1;33m(\u001b[0m\u001b[0mv\u001b[0m\u001b[1;33m)\u001b[0m\u001b[1;33m\u001b[0m\u001b[0m\n\u001b[0m\u001b[0;32m   3809\u001b[0m                     \u001b[0mkeys\u001b[0m\u001b[1;33m.\u001b[0m\u001b[0mappend\u001b[0m\u001b[1;33m(\u001b[0m\u001b[0mv\u001b[0m\u001b[1;33m.\u001b[0m\u001b[0mname\u001b[0m\u001b[1;33m)\u001b[0m\u001b[1;33m\u001b[0m\u001b[0m\n\u001b[0;32m   3810\u001b[0m             \u001b[1;32mexcept\u001b[0m \u001b[0mException\u001b[0m \u001b[1;32mas\u001b[0m \u001b[0me\u001b[0m\u001b[1;33m:\u001b[0m\u001b[1;33m\u001b[0m\u001b[0m\n",
      "\u001b[1;32m/home/jake/anaconda/lib/python2.7/site-packages/pandas/core/frame.pyc\u001b[0m in \u001b[0;36minfer\u001b[1;34m(x)\u001b[0m\n\u001b[0;32m   3884\u001b[0m                 \u001b[0mf\u001b[0m \u001b[1;33m=\u001b[0m \u001b[0mcom\u001b[0m\u001b[1;33m.\u001b[0m\u001b[0mi8_boxer\u001b[0m\u001b[1;33m(\u001b[0m\u001b[0mx\u001b[0m\u001b[1;33m)\u001b[0m\u001b[1;33m\u001b[0m\u001b[0m\n\u001b[0;32m   3885\u001b[0m                 \u001b[0mx\u001b[0m \u001b[1;33m=\u001b[0m \u001b[0mlib\u001b[0m\u001b[1;33m.\u001b[0m\u001b[0mmap_infer\u001b[0m\u001b[1;33m(\u001b[0m\u001b[0m_values_from_object\u001b[0m\u001b[1;33m(\u001b[0m\u001b[0mx\u001b[0m\u001b[1;33m)\u001b[0m\u001b[1;33m,\u001b[0m \u001b[0mf\u001b[0m\u001b[1;33m)\u001b[0m\u001b[1;33m\u001b[0m\u001b[0m\n\u001b[1;32m-> 3886\u001b[1;33m             \u001b[1;32mreturn\u001b[0m \u001b[0mlib\u001b[0m\u001b[1;33m.\u001b[0m\u001b[0mmap_infer\u001b[0m\u001b[1;33m(\u001b[0m\u001b[0m_values_from_object\u001b[0m\u001b[1;33m(\u001b[0m\u001b[0mx\u001b[0m\u001b[1;33m)\u001b[0m\u001b[1;33m,\u001b[0m \u001b[0mfunc\u001b[0m\u001b[1;33m)\u001b[0m\u001b[1;33m\u001b[0m\u001b[0m\n\u001b[0m\u001b[0;32m   3887\u001b[0m         \u001b[1;32mreturn\u001b[0m \u001b[0mself\u001b[0m\u001b[1;33m.\u001b[0m\u001b[0mapply\u001b[0m\u001b[1;33m(\u001b[0m\u001b[0minfer\u001b[0m\u001b[1;33m)\u001b[0m\u001b[1;33m\u001b[0m\u001b[0m\n\u001b[0;32m   3888\u001b[0m \u001b[1;33m\u001b[0m\u001b[0m\n",
      "\u001b[1;32mpandas/src/inference.pyx\u001b[0m in \u001b[0;36mpandas.lib.map_infer (pandas/lib.c:58435)\u001b[1;34m()\u001b[0m\n",
      "\u001b[1;32m<ipython-input-9-a05ae447d8a3>\u001b[0m in \u001b[0;36m<lambda>\u001b[1;34m(x)\u001b[0m\n\u001b[0;32m      1\u001b[0m \u001b[1;31m# inplace isn't available for this function, thus asign manually\u001b[0m\u001b[1;33m\u001b[0m\u001b[1;33m\u001b[0m\u001b[0m\n\u001b[0;32m      2\u001b[0m \u001b[0mcols\u001b[0m \u001b[1;33m=\u001b[0m \u001b[1;33m[\u001b[0m\u001b[1;34m'Total Sch. Enroll.'\u001b[0m\u001b[1;33m,\u001b[0m \u001b[1;34m'Polio Prot.'\u001b[0m\u001b[1;33m]\u001b[0m\u001b[1;33m\u001b[0m\u001b[0m\n\u001b[1;32m----> 3\u001b[1;33m \u001b[0mdf04\u001b[0m\u001b[1;33m[\u001b[0m\u001b[0mcols\u001b[0m\u001b[1;33m]\u001b[0m \u001b[1;33m=\u001b[0m \u001b[0mdf04\u001b[0m\u001b[1;33m[\u001b[0m\u001b[0mcols\u001b[0m\u001b[1;33m]\u001b[0m\u001b[1;33m.\u001b[0m\u001b[0mapplymap\u001b[0m\u001b[1;33m(\u001b[0m\u001b[1;32mlambda\u001b[0m \u001b[0mx\u001b[0m\u001b[1;33m:\u001b[0m \u001b[0mint\u001b[0m\u001b[1;33m(\u001b[0m\u001b[0mx\u001b[0m\u001b[1;33m)\u001b[0m\u001b[1;33m)\u001b[0m\u001b[1;33m\u001b[0m\u001b[0m\n\u001b[0m\u001b[0;32m      4\u001b[0m \u001b[0mdf04\u001b[0m\u001b[1;33m.\u001b[0m\u001b[0mhead\u001b[0m\u001b[1;33m(\u001b[0m\u001b[1;33m)\u001b[0m\u001b[1;33m\u001b[0m\u001b[0m\n",
      "\u001b[1;31mValueError\u001b[0m: (\"invalid literal for int() with base 10: '1,628'\", u'occurred at index Total Sch. Enroll.')"
     ]
    }
   ],
   "source": [
    "# inplace isn't available for this function, thus asign manually\n",
    "cols = ['Total Sch. Enroll.', 'Polio Prot.']\n",
    "df04[cols] = df04[cols].applymap(lambda x: int(x))\n",
    "df04.head()"
   ]
  },
  {
   "cell_type": "markdown",
   "metadata": {},
   "source": [
    "This error shows that there's are values with commas, as a result Python can't automatically change it into an int.\n",
    "\n",
    "We have to remove the comma, then convert to int. We do this using the *replace()* method."
   ]
  },
  {
   "cell_type": "code",
   "execution_count": 10,
   "metadata": {
    "collapsed": false
   },
   "outputs": [
    {
     "data": {
      "text/html": [
       "<div>\n",
       "<table border=\"1\" class=\"dataframe\">\n",
       "  <thead>\n",
       "    <tr style=\"text-align: right;\">\n",
       "      <th></th>\n",
       "      <th>RCDT</th>\n",
       "      <th>School</th>\n",
       "      <th>Total Sch. Enroll.</th>\n",
       "      <th>Polio Prot.</th>\n",
       "    </tr>\n",
       "  </thead>\n",
       "  <tbody>\n",
       "    <tr>\n",
       "      <th>1</th>\n",
       "      <td>01001001026</td>\n",
       "      <td>0001</td>\n",
       "      <td>279</td>\n",
       "      <td>277</td>\n",
       "    </tr>\n",
       "    <tr>\n",
       "      <th>2</th>\n",
       "      <td>01001002026</td>\n",
       "      <td>2002</td>\n",
       "      <td>278</td>\n",
       "      <td>276</td>\n",
       "    </tr>\n",
       "    <tr>\n",
       "      <th>3</th>\n",
       "      <td>01001002026</td>\n",
       "      <td>2002</td>\n",
       "      <td>419</td>\n",
       "      <td>419</td>\n",
       "    </tr>\n",
       "    <tr>\n",
       "      <th>4</th>\n",
       "      <td>01001002X06</td>\n",
       "      <td>n/a</td>\n",
       "      <td>197</td>\n",
       "      <td>193</td>\n",
       "    </tr>\n",
       "    <tr>\n",
       "      <th>5</th>\n",
       "      <td>01001003026</td>\n",
       "      <td>1001</td>\n",
       "      <td>330</td>\n",
       "      <td>329</td>\n",
       "    </tr>\n",
       "  </tbody>\n",
       "</table>\n",
       "</div>"
      ],
      "text/plain": [
       "          RCDT School  Total Sch. Enroll.  Polio Prot.\n",
       "1  01001001026   0001                 279          277\n",
       "2  01001002026   2002                 278          276\n",
       "3  01001002026   2002                 419          419\n",
       "4  01001002X06    n/a                 197          193\n",
       "5  01001003026   1001                 330          329"
      ]
     },
     "execution_count": 10,
     "metadata": {},
     "output_type": "execute_result"
    }
   ],
   "source": [
    "# same applymap() above, but our function replaces the string then converts\n",
    "df04[cols] = df04[cols].applymap(lambda x: int(x.replace(',', '')))\n",
    "df04.head()"
   ]
  },
  {
   "cell_type": "markdown",
   "metadata": {},
   "source": [
    "Try looking at the datatypes again."
   ]
  },
  {
   "cell_type": "code",
   "execution_count": 11,
   "metadata": {
    "collapsed": false
   },
   "outputs": [
    {
     "data": {
      "text/plain": [
       "RCDT                  object\n",
       "School                object\n",
       "Total Sch. Enroll.     int64\n",
       "Polio Prot.            int64\n",
       "dtype: object"
      ]
     },
     "execution_count": 11,
     "metadata": {},
     "output_type": "execute_result"
    }
   ],
   "source": [
    "df04.dtypes"
   ]
  },
  {
   "cell_type": "markdown",
   "metadata": {},
   "source": [
    "Beautiful. Now let's run those summary stats again."
   ]
  },
  {
   "cell_type": "code",
   "execution_count": 12,
   "metadata": {
    "collapsed": false
   },
   "outputs": [
    {
     "data": {
      "text/html": [
       "<div>\n",
       "<table border=\"1\" class=\"dataframe\">\n",
       "  <thead>\n",
       "    <tr style=\"text-align: right;\">\n",
       "      <th></th>\n",
       "      <th>RCDT</th>\n",
       "      <th>School</th>\n",
       "      <th>Total Sch. Enroll.</th>\n",
       "      <th>Polio Prot.</th>\n",
       "    </tr>\n",
       "  </thead>\n",
       "  <tbody>\n",
       "    <tr>\n",
       "      <th>count</th>\n",
       "      <td>5179</td>\n",
       "      <td>5179</td>\n",
       "      <td>5179.000000</td>\n",
       "      <td>5179.000000</td>\n",
       "    </tr>\n",
       "    <tr>\n",
       "      <th>unique</th>\n",
       "      <td>2045</td>\n",
       "      <td>701</td>\n",
       "      <td>NaN</td>\n",
       "      <td>NaN</td>\n",
       "    </tr>\n",
       "    <tr>\n",
       "      <th>top</th>\n",
       "      <td>15016299025</td>\n",
       "      <td>n/a</td>\n",
       "      <td>NaN</td>\n",
       "      <td>NaN</td>\n",
       "    </tr>\n",
       "    <tr>\n",
       "      <th>freq</th>\n",
       "      <td>594</td>\n",
       "      <td>1165</td>\n",
       "      <td>NaN</td>\n",
       "      <td>NaN</td>\n",
       "    </tr>\n",
       "    <tr>\n",
       "      <th>mean</th>\n",
       "      <td>NaN</td>\n",
       "      <td>NaN</td>\n",
       "      <td>454.953659</td>\n",
       "      <td>450.193281</td>\n",
       "    </tr>\n",
       "    <tr>\n",
       "      <th>std</th>\n",
       "      <td>NaN</td>\n",
       "      <td>NaN</td>\n",
       "      <td>459.038458</td>\n",
       "      <td>455.747560</td>\n",
       "    </tr>\n",
       "    <tr>\n",
       "      <th>min</th>\n",
       "      <td>NaN</td>\n",
       "      <td>NaN</td>\n",
       "      <td>1.000000</td>\n",
       "      <td>1.000000</td>\n",
       "    </tr>\n",
       "    <tr>\n",
       "      <th>25%</th>\n",
       "      <td>NaN</td>\n",
       "      <td>NaN</td>\n",
       "      <td>191.000000</td>\n",
       "      <td>189.000000</td>\n",
       "    </tr>\n",
       "    <tr>\n",
       "      <th>50%</th>\n",
       "      <td>NaN</td>\n",
       "      <td>NaN</td>\n",
       "      <td>344.000000</td>\n",
       "      <td>341.000000</td>\n",
       "    </tr>\n",
       "    <tr>\n",
       "      <th>75%</th>\n",
       "      <td>NaN</td>\n",
       "      <td>NaN</td>\n",
       "      <td>561.000000</td>\n",
       "      <td>554.500000</td>\n",
       "    </tr>\n",
       "    <tr>\n",
       "      <th>max</th>\n",
       "      <td>NaN</td>\n",
       "      <td>NaN</td>\n",
       "      <td>8770.000000</td>\n",
       "      <td>8760.000000</td>\n",
       "    </tr>\n",
       "  </tbody>\n",
       "</table>\n",
       "</div>"
      ],
      "text/plain": [
       "               RCDT School  Total Sch. Enroll.  Polio Prot.\n",
       "count          5179   5179         5179.000000  5179.000000\n",
       "unique         2045    701                 NaN          NaN\n",
       "top     15016299025    n/a                 NaN          NaN\n",
       "freq            594   1165                 NaN          NaN\n",
       "mean            NaN    NaN          454.953659   450.193281\n",
       "std             NaN    NaN          459.038458   455.747560\n",
       "min             NaN    NaN            1.000000     1.000000\n",
       "25%             NaN    NaN          191.000000   189.000000\n",
       "50%             NaN    NaN          344.000000   341.000000\n",
       "75%             NaN    NaN          561.000000   554.500000\n",
       "max             NaN    NaN         8770.000000  8760.000000"
      ]
     },
     "execution_count": 12,
     "metadata": {},
     "output_type": "execute_result"
    }
   ],
   "source": [
    "df04.describe(include='all')"
   ]
  },
  {
   "cell_type": "markdown",
   "metadata": {},
   "source": [
    "This looks fine so far.\n",
    "\n",
    "We can probably do the same things to the next datasets."
   ]
  },
  {
   "cell_type": "markdown",
   "metadata": {},
   "source": [
    "### Years 09-10"
   ]
  },
  {
   "cell_type": "markdown",
   "metadata": {},
   "source": [
    "Now that the 2004-2005 data is out of the way, let's continue to 2009-2010. We expect to be using the same methods and techniques as above.\n",
    "\n",
    "Import again."
   ]
  },
  {
   "cell_type": "code",
   "execution_count": 13,
   "metadata": {
    "collapsed": false
   },
   "outputs": [
    {
     "data": {
      "text/html": [
       "<div>\n",
       "<table border=\"1\" class=\"dataframe\">\n",
       "  <thead>\n",
       "    <tr style=\"text-align: right;\">\n",
       "      <th></th>\n",
       "      <th>2009-2010 School Year Immunization Data</th>\n",
       "      <th>Unnamed: 1</th>\n",
       "      <th>Unnamed: 2</th>\n",
       "      <th>Unnamed: 3</th>\n",
       "      <th>Unnamed: 4</th>\n",
       "      <th>Unnamed: 5</th>\n",
       "      <th>Unnamed: 6</th>\n",
       "      <th>Unnamed: 7</th>\n",
       "      <th>Unnamed: 8</th>\n",
       "      <th>Unnamed: 9</th>\n",
       "      <th>...</th>\n",
       "      <th>Unnamed: 47</th>\n",
       "      <th>Unnamed: 48</th>\n",
       "      <th>Unnamed: 49</th>\n",
       "      <th>Unnamed: 50</th>\n",
       "      <th>Unnamed: 51</th>\n",
       "      <th>Unnamed: 52</th>\n",
       "      <th>Unnamed: 53</th>\n",
       "      <th>Unnamed: 54</th>\n",
       "      <th>Unnamed: 55</th>\n",
       "      <th>Unnamed: 56</th>\n",
       "    </tr>\n",
       "  </thead>\n",
       "  <tbody>\n",
       "    <tr>\n",
       "      <th>0</th>\n",
       "      <td>RCDTS</td>\n",
       "      <td>Facility</td>\n",
       "      <td>RCDT</td>\n",
       "      <td>School</td>\n",
       "      <td>Enrollment</td>\n",
       "      <td>TotalNC</td>\n",
       "      <td>UnduplCount</td>\n",
       "      <td>NCPE</td>\n",
       "      <td>Excluded</td>\n",
       "      <td>PolioProt</td>\n",
       "      <td>...</td>\n",
       "      <td>HibMedObj</td>\n",
       "      <td>HibRelObj</td>\n",
       "      <td>HibApprSchd</td>\n",
       "      <td>HibTotal</td>\n",
       "      <td>CpoxProt</td>\n",
       "      <td>CpoxNcNp</td>\n",
       "      <td>CpoxMedObj</td>\n",
       "      <td>CpoxRelObj</td>\n",
       "      <td>CpoxApprSchd</td>\n",
       "      <td>CpoxTotal</td>\n",
       "    </tr>\n",
       "    <tr>\n",
       "      <th>1</th>\n",
       "      <td>140161630022008</td>\n",
       "      <td>21st Century Preparatory Center</td>\n",
       "      <td>14016163002</td>\n",
       "      <td>2008</td>\n",
       "      <td>234</td>\n",
       "      <td>3</td>\n",
       "      <td>3</td>\n",
       "      <td>0</td>\n",
       "      <td>3</td>\n",
       "      <td>232</td>\n",
       "      <td>...</td>\n",
       "      <td>0</td>\n",
       "      <td>0</td>\n",
       "      <td>0</td>\n",
       "      <td>54</td>\n",
       "      <td>233</td>\n",
       "      <td>0</td>\n",
       "      <td>1</td>\n",
       "      <td>0</td>\n",
       "      <td>0</td>\n",
       "      <td>234</td>\n",
       "    </tr>\n",
       "    <tr>\n",
       "      <th>2</th>\n",
       "      <td>540921180243104</td>\n",
       "      <td>2x2 Christian Educational Center</td>\n",
       "      <td>54092118024</td>\n",
       "      <td>3104</td>\n",
       "      <td>19</td>\n",
       "      <td>19</td>\n",
       "      <td>19</td>\n",
       "      <td>0</td>\n",
       "      <td>0</td>\n",
       "      <td>0</td>\n",
       "      <td>...</td>\n",
       "      <td>0</td>\n",
       "      <td>0</td>\n",
       "      <td>0</td>\n",
       "      <td>19</td>\n",
       "      <td>0</td>\n",
       "      <td>19</td>\n",
       "      <td>0</td>\n",
       "      <td>0</td>\n",
       "      <td>0</td>\n",
       "      <td>19</td>\n",
       "    </tr>\n",
       "    <tr>\n",
       "      <th>3</th>\n",
       "      <td>140162180160007</td>\n",
       "      <td>A B Shepard High Sch (Campus)</td>\n",
       "      <td>14016218016</td>\n",
       "      <td>0007</td>\n",
       "      <td>1944</td>\n",
       "      <td>3</td>\n",
       "      <td>2</td>\n",
       "      <td>1</td>\n",
       "      <td>3</td>\n",
       "      <td>1942</td>\n",
       "      <td>...</td>\n",
       "      <td>0</td>\n",
       "      <td>0</td>\n",
       "      <td>0</td>\n",
       "      <td>0</td>\n",
       "      <td>0</td>\n",
       "      <td>0</td>\n",
       "      <td>0</td>\n",
       "      <td>0</td>\n",
       "      <td>0</td>\n",
       "      <td>0</td>\n",
       "    </tr>\n",
       "    <tr>\n",
       "      <th>4</th>\n",
       "      <td>041012050252059</td>\n",
       "      <td>A C Thompson Elem School</td>\n",
       "      <td>04101205025</td>\n",
       "      <td>2059</td>\n",
       "      <td>307</td>\n",
       "      <td>1</td>\n",
       "      <td>0</td>\n",
       "      <td>1</td>\n",
       "      <td>0</td>\n",
       "      <td>307</td>\n",
       "      <td>...</td>\n",
       "      <td>0</td>\n",
       "      <td>0</td>\n",
       "      <td>0</td>\n",
       "      <td>0</td>\n",
       "      <td>307</td>\n",
       "      <td>0</td>\n",
       "      <td>0</td>\n",
       "      <td>0</td>\n",
       "      <td>0</td>\n",
       "      <td>307</td>\n",
       "    </tr>\n",
       "  </tbody>\n",
       "</table>\n",
       "<p>5 rows × 57 columns</p>\n",
       "</div>"
      ],
      "text/plain": [
       "  2009-2010 School Year Immunization Data                        Unnamed: 1  \\\n",
       "0                                   RCDTS                          Facility   \n",
       "1                         140161630022008   21st Century Preparatory Center   \n",
       "2                         540921180243104  2x2 Christian Educational Center   \n",
       "3                         140162180160007     A B Shepard High Sch (Campus)   \n",
       "4                         041012050252059          A C Thompson Elem School   \n",
       "\n",
       "    Unnamed: 2 Unnamed: 3  Unnamed: 4 Unnamed: 5   Unnamed: 6 Unnamed: 7  \\\n",
       "0         RCDT     School  Enrollment    TotalNC  UnduplCount       NCPE   \n",
       "1  14016163002       2008         234          3            3          0   \n",
       "2  54092118024       3104          19         19           19          0   \n",
       "3  14016218016       0007        1944          3            2          1   \n",
       "4  04101205025       2059         307          1            0          1   \n",
       "\n",
       "  Unnamed: 8 Unnamed: 9     ...     Unnamed: 47 Unnamed: 48  Unnamed: 49  \\\n",
       "0   Excluded  PolioProt     ...       HibMedObj   HibRelObj  HibApprSchd   \n",
       "1          3        232     ...               0           0            0   \n",
       "2          0          0     ...               0           0            0   \n",
       "3          3       1942     ...               0           0            0   \n",
       "4          0        307     ...               0           0            0   \n",
       "\n",
       "  Unnamed: 50 Unnamed: 51 Unnamed: 52 Unnamed: 53 Unnamed: 54   Unnamed: 55  \\\n",
       "0    HibTotal    CpoxProt    CpoxNcNp  CpoxMedObj  CpoxRelObj  CpoxApprSchd   \n",
       "1          54         233           0           1           0             0   \n",
       "2          19           0          19           0           0             0   \n",
       "3           0           0           0           0           0             0   \n",
       "4           0         307           0           0           0             0   \n",
       "\n",
       "  Unnamed: 56  \n",
       "0   CpoxTotal  \n",
       "1         234  \n",
       "2          19  \n",
       "3           0  \n",
       "4         307  \n",
       "\n",
       "[5 rows x 57 columns]"
      ]
     },
     "execution_count": 13,
     "metadata": {},
     "output_type": "execute_result"
    }
   ],
   "source": [
    "df09 = pd.read_csv('../data/immunization_09-10.csv')\n",
    "df09.head()"
   ]
  },
  {
   "cell_type": "markdown",
   "metadata": {},
   "source": [
    "Same header issue as before. Same fix as above."
   ]
  },
  {
   "cell_type": "code",
   "execution_count": 14,
   "metadata": {
    "collapsed": false
   },
   "outputs": [
    {
     "data": {
      "text/html": [
       "<div>\n",
       "<table border=\"1\" class=\"dataframe\">\n",
       "  <thead>\n",
       "    <tr style=\"text-align: right;\">\n",
       "      <th></th>\n",
       "      <th>RCDTS</th>\n",
       "      <th>Facility</th>\n",
       "      <th>RCDT</th>\n",
       "      <th>School</th>\n",
       "      <th>Enrollment</th>\n",
       "      <th>TotalNC</th>\n",
       "      <th>UnduplCount</th>\n",
       "      <th>NCPE</th>\n",
       "      <th>Excluded</th>\n",
       "      <th>PolioProt</th>\n",
       "      <th>...</th>\n",
       "      <th>HibMedObj</th>\n",
       "      <th>HibRelObj</th>\n",
       "      <th>HibApprSchd</th>\n",
       "      <th>HibTotal</th>\n",
       "      <th>CpoxProt</th>\n",
       "      <th>CpoxNcNp</th>\n",
       "      <th>CpoxMedObj</th>\n",
       "      <th>CpoxRelObj</th>\n",
       "      <th>CpoxApprSchd</th>\n",
       "      <th>CpoxTotal</th>\n",
       "    </tr>\n",
       "  </thead>\n",
       "  <tbody>\n",
       "    <tr>\n",
       "      <th>0</th>\n",
       "      <td>140161630022008</td>\n",
       "      <td>21st Century Preparatory Center</td>\n",
       "      <td>14016163002</td>\n",
       "      <td>2008</td>\n",
       "      <td>234</td>\n",
       "      <td>3</td>\n",
       "      <td>3</td>\n",
       "      <td>0</td>\n",
       "      <td>3</td>\n",
       "      <td>232</td>\n",
       "      <td>...</td>\n",
       "      <td>0</td>\n",
       "      <td>0</td>\n",
       "      <td>0</td>\n",
       "      <td>54</td>\n",
       "      <td>233</td>\n",
       "      <td>0</td>\n",
       "      <td>1</td>\n",
       "      <td>0</td>\n",
       "      <td>0</td>\n",
       "      <td>234</td>\n",
       "    </tr>\n",
       "    <tr>\n",
       "      <th>1</th>\n",
       "      <td>540921180243104</td>\n",
       "      <td>2x2 Christian Educational Center</td>\n",
       "      <td>54092118024</td>\n",
       "      <td>3104</td>\n",
       "      <td>19</td>\n",
       "      <td>19</td>\n",
       "      <td>19</td>\n",
       "      <td>0</td>\n",
       "      <td>0</td>\n",
       "      <td>0</td>\n",
       "      <td>...</td>\n",
       "      <td>0</td>\n",
       "      <td>0</td>\n",
       "      <td>0</td>\n",
       "      <td>19</td>\n",
       "      <td>0</td>\n",
       "      <td>19</td>\n",
       "      <td>0</td>\n",
       "      <td>0</td>\n",
       "      <td>0</td>\n",
       "      <td>19</td>\n",
       "    </tr>\n",
       "    <tr>\n",
       "      <th>2</th>\n",
       "      <td>140162180160007</td>\n",
       "      <td>A B Shepard High Sch (Campus)</td>\n",
       "      <td>14016218016</td>\n",
       "      <td>0007</td>\n",
       "      <td>1944</td>\n",
       "      <td>3</td>\n",
       "      <td>2</td>\n",
       "      <td>1</td>\n",
       "      <td>3</td>\n",
       "      <td>1942</td>\n",
       "      <td>...</td>\n",
       "      <td>0</td>\n",
       "      <td>0</td>\n",
       "      <td>0</td>\n",
       "      <td>0</td>\n",
       "      <td>0</td>\n",
       "      <td>0</td>\n",
       "      <td>0</td>\n",
       "      <td>0</td>\n",
       "      <td>0</td>\n",
       "      <td>0</td>\n",
       "    </tr>\n",
       "    <tr>\n",
       "      <th>3</th>\n",
       "      <td>041012050252059</td>\n",
       "      <td>A C Thompson Elem School</td>\n",
       "      <td>04101205025</td>\n",
       "      <td>2059</td>\n",
       "      <td>307</td>\n",
       "      <td>1</td>\n",
       "      <td>0</td>\n",
       "      <td>1</td>\n",
       "      <td>0</td>\n",
       "      <td>307</td>\n",
       "      <td>...</td>\n",
       "      <td>0</td>\n",
       "      <td>0</td>\n",
       "      <td>0</td>\n",
       "      <td>0</td>\n",
       "      <td>307</td>\n",
       "      <td>0</td>\n",
       "      <td>0</td>\n",
       "      <td>0</td>\n",
       "      <td>0</td>\n",
       "      <td>307</td>\n",
       "    </tr>\n",
       "    <tr>\n",
       "      <th>4</th>\n",
       "      <td>140160960022001</td>\n",
       "      <td>A F Ames Elem School</td>\n",
       "      <td>14016096002</td>\n",
       "      <td>2001</td>\n",
       "      <td>334</td>\n",
       "      <td>1</td>\n",
       "      <td>0</td>\n",
       "      <td>1</td>\n",
       "      <td>0</td>\n",
       "      <td>330</td>\n",
       "      <td>...</td>\n",
       "      <td>0</td>\n",
       "      <td>0</td>\n",
       "      <td>0</td>\n",
       "      <td>0</td>\n",
       "      <td>330</td>\n",
       "      <td>0</td>\n",
       "      <td>0</td>\n",
       "      <td>4</td>\n",
       "      <td>0</td>\n",
       "      <td>334</td>\n",
       "    </tr>\n",
       "  </tbody>\n",
       "</table>\n",
       "<p>5 rows × 57 columns</p>\n",
       "</div>"
      ],
      "text/plain": [
       "             RCDTS                          Facility         RCDT School  \\\n",
       "0  140161630022008   21st Century Preparatory Center  14016163002   2008   \n",
       "1  540921180243104  2x2 Christian Educational Center  54092118024   3104   \n",
       "2  140162180160007     A B Shepard High Sch (Campus)  14016218016   0007   \n",
       "3  041012050252059          A C Thompson Elem School  04101205025   2059   \n",
       "4  140160960022001              A F Ames Elem School  14016096002   2001   \n",
       "\n",
       "   Enrollment  TotalNC  UnduplCount  NCPE  Excluded  PolioProt    ...      \\\n",
       "0         234        3            3     0         3        232    ...       \n",
       "1          19       19           19     0         0          0    ...       \n",
       "2        1944        3            2     1         3       1942    ...       \n",
       "3         307        1            0     1         0        307    ...       \n",
       "4         334        1            0     1         0        330    ...       \n",
       "\n",
       "   HibMedObj  HibRelObj  HibApprSchd  HibTotal  CpoxProt  CpoxNcNp  \\\n",
       "0          0          0            0        54       233         0   \n",
       "1          0          0            0        19         0        19   \n",
       "2          0          0            0         0         0         0   \n",
       "3          0          0            0         0       307         0   \n",
       "4          0          0            0         0       330         0   \n",
       "\n",
       "   CpoxMedObj  CpoxRelObj  CpoxApprSchd  CpoxTotal  \n",
       "0           1           0             0        234  \n",
       "1           0           0             0         19  \n",
       "2           0           0             0          0  \n",
       "3           0           0             0        307  \n",
       "4           0           4             0        334  \n",
       "\n",
       "[5 rows x 57 columns]"
      ]
     },
     "execution_count": 14,
     "metadata": {},
     "output_type": "execute_result"
    }
   ],
   "source": [
    "df09 = pd.read_csv('../data/immunization_09-10.csv', skiprows=1)\n",
    "df09.head()"
   ]
  },
  {
   "cell_type": "markdown",
   "metadata": {},
   "source": [
    "Looks good, now we want just the polio columns again."
   ]
  },
  {
   "cell_type": "code",
   "execution_count": 15,
   "metadata": {
    "collapsed": false
   },
   "outputs": [
    {
     "data": {
      "text/html": [
       "<div>\n",
       "<table border=\"1\" class=\"dataframe\">\n",
       "  <thead>\n",
       "    <tr style=\"text-align: right;\">\n",
       "      <th></th>\n",
       "      <th>RCDT</th>\n",
       "      <th>School</th>\n",
       "      <th>Total Sch. Enroll.</th>\n",
       "      <th>Polio Prot.</th>\n",
       "    </tr>\n",
       "  </thead>\n",
       "  <tbody>\n",
       "    <tr>\n",
       "      <th>0</th>\n",
       "      <td>14016163002</td>\n",
       "      <td>2008</td>\n",
       "      <td>NaN</td>\n",
       "      <td>NaN</td>\n",
       "    </tr>\n",
       "    <tr>\n",
       "      <th>1</th>\n",
       "      <td>54092118024</td>\n",
       "      <td>3104</td>\n",
       "      <td>NaN</td>\n",
       "      <td>NaN</td>\n",
       "    </tr>\n",
       "    <tr>\n",
       "      <th>2</th>\n",
       "      <td>14016218016</td>\n",
       "      <td>0007</td>\n",
       "      <td>NaN</td>\n",
       "      <td>NaN</td>\n",
       "    </tr>\n",
       "    <tr>\n",
       "      <th>3</th>\n",
       "      <td>04101205025</td>\n",
       "      <td>2059</td>\n",
       "      <td>NaN</td>\n",
       "      <td>NaN</td>\n",
       "    </tr>\n",
       "    <tr>\n",
       "      <th>4</th>\n",
       "      <td>14016096002</td>\n",
       "      <td>2001</td>\n",
       "      <td>NaN</td>\n",
       "      <td>NaN</td>\n",
       "    </tr>\n",
       "  </tbody>\n",
       "</table>\n",
       "</div>"
      ],
      "text/plain": [
       "          RCDT School  Total Sch. Enroll.  Polio Prot.\n",
       "0  14016163002   2008                 NaN          NaN\n",
       "1  54092118024   3104                 NaN          NaN\n",
       "2  14016218016   0007                 NaN          NaN\n",
       "3  04101205025   2059                 NaN          NaN\n",
       "4  14016096002   2001                 NaN          NaN"
      ]
     },
     "execution_count": 15,
     "metadata": {},
     "output_type": "execute_result"
    }
   ],
   "source": [
    "# name the columns we want to keep, the only select those columns\n",
    "columns_to_keep = ['RCDT', 'School', 'Total Sch. Enroll.', 'Polio Prot.']\n",
    "df09.ix[:, columns_to_keep].head() # takes all rows, takes only the columns in the array columns_to_keep"
   ]
  },
  {
   "cell_type": "markdown",
   "metadata": {},
   "source": [
    "Oh, this is because the columns are named differently than from the 04-05 dataset! We need to get the correct column names for this table. Let's see the column names first using the *columns* attribute."
   ]
  },
  {
   "cell_type": "code",
   "execution_count": 16,
   "metadata": {
    "collapsed": false,
    "scrolled": true
   },
   "outputs": [
    {
     "data": {
      "text/plain": [
       "Index([u'RCDTS', u'Facility', u'RCDT', u'School', u'Enrollment', u'TotalNC',\n",
       "       u'UnduplCount', u'NCPE', u'Excluded', u'PolioProt', u'PolioNcNp',\n",
       "       u'PolioMedObj', u'PolioRelObj', u'PolioApprSchd', u'PolioTotal',\n",
       "       u'DtpProt', u'DtpNcNp', u'DtpMedObj', u'DtpRelObj', u'DtpApprSchd',\n",
       "       u'DtpTotal', u'MeasProt', u'MeasNcNp', u'MeasMedObj', u'MeasRelObj',\n",
       "       u'MeasApprSchd', u'MeasTotal', u'RubProt', u'RubNcNp', u'RubMedObj',\n",
       "       u'RubRelObj', u'RubApprSchd', u'RubTotal', u'MumpProt', u'MumpNcNp',\n",
       "       u'MumpMedObj', u'MumpRelObj', u'MumpApprSchd', u'MumpTotal', u'HepProt',\n",
       "       u'HepNcNp', u'HepMedObj', u'HepRelObj', u'HepApprSchd', u'HepTotal',\n",
       "       u'HibProt', u'HibNcNp', u'HibMedObj', u'HibRelObj', u'HibApprSchd',\n",
       "       u'HibTotal', u'CpoxProt', u'CpoxNcNp', u'CpoxMedObj', u'CpoxRelObj',\n",
       "       u'CpoxApprSchd', u'CpoxTotal'],\n",
       "      dtype='object')"
      ]
     },
     "execution_count": 16,
     "metadata": {},
     "output_type": "execute_result"
    }
   ],
   "source": [
    "df09.columns"
   ]
  },
  {
   "cell_type": "code",
   "execution_count": 17,
   "metadata": {
    "collapsed": false
   },
   "outputs": [
    {
     "data": {
      "text/html": [
       "<div>\n",
       "<table border=\"1\" class=\"dataframe\">\n",
       "  <thead>\n",
       "    <tr style=\"text-align: right;\">\n",
       "      <th></th>\n",
       "      <th>RCDTS</th>\n",
       "      <th>Enrollment</th>\n",
       "      <th>PolioProt</th>\n",
       "    </tr>\n",
       "  </thead>\n",
       "  <tbody>\n",
       "    <tr>\n",
       "      <th>0</th>\n",
       "      <td>140161630022008</td>\n",
       "      <td>234</td>\n",
       "      <td>232</td>\n",
       "    </tr>\n",
       "    <tr>\n",
       "      <th>1</th>\n",
       "      <td>540921180243104</td>\n",
       "      <td>19</td>\n",
       "      <td>0</td>\n",
       "    </tr>\n",
       "    <tr>\n",
       "      <th>2</th>\n",
       "      <td>140162180160007</td>\n",
       "      <td>1944</td>\n",
       "      <td>1942</td>\n",
       "    </tr>\n",
       "    <tr>\n",
       "      <th>3</th>\n",
       "      <td>041012050252059</td>\n",
       "      <td>307</td>\n",
       "      <td>307</td>\n",
       "    </tr>\n",
       "    <tr>\n",
       "      <th>4</th>\n",
       "      <td>140160960022001</td>\n",
       "      <td>334</td>\n",
       "      <td>330</td>\n",
       "    </tr>\n",
       "  </tbody>\n",
       "</table>\n",
       "</div>"
      ],
      "text/plain": [
       "             RCDTS  Enrollment  PolioProt\n",
       "0  140161630022008         234        232\n",
       "1  540921180243104          19          0\n",
       "2  140162180160007        1944       1942\n",
       "3  041012050252059         307        307\n",
       "4  140160960022001         334        330"
      ]
     },
     "execution_count": 17,
     "metadata": {},
     "output_type": "execute_result"
    }
   ],
   "source": [
    "# again, select the columns we want and only take those\n",
    "columns_to_keep = ['RCDTS', 'Enrollment', 'PolioProt']\n",
    "df09 = df09[columns_to_keep]\n",
    "# might as well remove NAs too.\n",
    "df09.dropna(inplace=True)\n",
    "df09.head()"
   ]
  },
  {
   "cell_type": "markdown",
   "metadata": {},
   "source": [
    "Let's make a quick note here that in this dataset, school district and school ID were combined into a single column."
   ]
  },
  {
   "cell_type": "code",
   "execution_count": 18,
   "metadata": {
    "collapsed": false
   },
   "outputs": [
    {
     "data": {
      "text/plain": [
       "RCDTS          object\n",
       "Enrollment    float64\n",
       "PolioProt     float64\n",
       "dtype: object"
      ]
     },
     "execution_count": 18,
     "metadata": {},
     "output_type": "execute_result"
    }
   ],
   "source": [
    "df09.dtypes"
   ]
  },
  {
   "cell_type": "markdown",
   "metadata": {},
   "source": [
    "How nice, they're floats already."
   ]
  },
  {
   "cell_type": "code",
   "execution_count": 19,
   "metadata": {
    "collapsed": false
   },
   "outputs": [
    {
     "data": {
      "text/html": [
       "<div>\n",
       "<table border=\"1\" class=\"dataframe\">\n",
       "  <thead>\n",
       "    <tr style=\"text-align: right;\">\n",
       "      <th></th>\n",
       "      <th>RCDTS</th>\n",
       "      <th>Enrollment</th>\n",
       "      <th>PolioProt</th>\n",
       "    </tr>\n",
       "  </thead>\n",
       "  <tbody>\n",
       "    <tr>\n",
       "      <th>count</th>\n",
       "      <td>5021</td>\n",
       "      <td>5021.000000</td>\n",
       "      <td>5021.000000</td>\n",
       "    </tr>\n",
       "    <tr>\n",
       "      <th>unique</th>\n",
       "      <td>5021</td>\n",
       "      <td>NaN</td>\n",
       "      <td>NaN</td>\n",
       "    </tr>\n",
       "    <tr>\n",
       "      <th>top</th>\n",
       "      <td>280065050160001</td>\n",
       "      <td>NaN</td>\n",
       "      <td>NaN</td>\n",
       "    </tr>\n",
       "    <tr>\n",
       "      <th>freq</th>\n",
       "      <td>1</td>\n",
       "      <td>NaN</td>\n",
       "      <td>NaN</td>\n",
       "    </tr>\n",
       "    <tr>\n",
       "      <th>mean</th>\n",
       "      <td>NaN</td>\n",
       "      <td>460.148576</td>\n",
       "      <td>453.327026</td>\n",
       "    </tr>\n",
       "    <tr>\n",
       "      <th>std</th>\n",
       "      <td>NaN</td>\n",
       "      <td>469.334927</td>\n",
       "      <td>465.449582</td>\n",
       "    </tr>\n",
       "    <tr>\n",
       "      <th>min</th>\n",
       "      <td>NaN</td>\n",
       "      <td>2.000000</td>\n",
       "      <td>0.000000</td>\n",
       "    </tr>\n",
       "    <tr>\n",
       "      <th>25%</th>\n",
       "      <td>NaN</td>\n",
       "      <td>199.000000</td>\n",
       "      <td>195.000000</td>\n",
       "    </tr>\n",
       "    <tr>\n",
       "      <th>50%</th>\n",
       "      <td>NaN</td>\n",
       "      <td>353.000000</td>\n",
       "      <td>348.000000</td>\n",
       "    </tr>\n",
       "    <tr>\n",
       "      <th>75%</th>\n",
       "      <td>NaN</td>\n",
       "      <td>549.000000</td>\n",
       "      <td>540.000000</td>\n",
       "    </tr>\n",
       "    <tr>\n",
       "      <th>max</th>\n",
       "      <td>NaN</td>\n",
       "      <td>8009.000000</td>\n",
       "      <td>7857.000000</td>\n",
       "    </tr>\n",
       "  </tbody>\n",
       "</table>\n",
       "</div>"
      ],
      "text/plain": [
       "                  RCDTS   Enrollment    PolioProt\n",
       "count              5021  5021.000000  5021.000000\n",
       "unique             5021          NaN          NaN\n",
       "top     280065050160001          NaN          NaN\n",
       "freq                  1          NaN          NaN\n",
       "mean                NaN   460.148576   453.327026\n",
       "std                 NaN   469.334927   465.449582\n",
       "min                 NaN     2.000000     0.000000\n",
       "25%                 NaN   199.000000   195.000000\n",
       "50%                 NaN   353.000000   348.000000\n",
       "75%                 NaN   549.000000   540.000000\n",
       "max                 NaN  8009.000000  7857.000000"
      ]
     },
     "execution_count": 19,
     "metadata": {},
     "output_type": "execute_result"
    }
   ],
   "source": [
    "df09.describe(include='all')"
   ]
  },
  {
   "cell_type": "markdown",
   "metadata": {},
   "source": [
    "Looks fine too.\n",
    "\n",
    "Let's go to the final dataset."
   ]
  },
  {
   "cell_type": "markdown",
   "metadata": {},
   "source": [
    "### Years 14-15"
   ]
  },
  {
   "cell_type": "code",
   "execution_count": 20,
   "metadata": {
    "collapsed": false
   },
   "outputs": [
    {
     "data": {
      "text/html": [
       "<div>\n",
       "<table border=\"1\" class=\"dataframe\">\n",
       "  <thead>\n",
       "    <tr style=\"text-align: right;\">\n",
       "      <th></th>\n",
       "      <th>Immunization Status of School-Age Children in Illinois for School Year 2014-2015</th>\n",
       "      <th>Unnamed: 1</th>\n",
       "      <th>Unnamed: 2</th>\n",
       "      <th>Unnamed: 3</th>\n",
       "      <th>Unnamed: 4</th>\n",
       "      <th>Unnamed: 5</th>\n",
       "      <th>Unnamed: 6</th>\n",
       "      <th>Unnamed: 7</th>\n",
       "      <th>Unnamed: 8</th>\n",
       "      <th>Unnamed: 9</th>\n",
       "      <th>Unnamed: 10</th>\n",
       "      <th>Unnamed: 11</th>\n",
       "      <th>Unnamed: 12</th>\n",
       "      <th>Unnamed: 13</th>\n",
       "      <th>Unnamed: 14</th>\n",
       "      <th>Unnamed: 15</th>\n",
       "      <th>Unnamed: 16</th>\n",
       "    </tr>\n",
       "  </thead>\n",
       "  <tbody>\n",
       "    <tr>\n",
       "      <th>0</th>\n",
       "      <td>Region-County-District-Type-School (RCDTS)</td>\n",
       "      <td>District</td>\n",
       "      <td>Facility</td>\n",
       "      <td>NaN</td>\n",
       "      <td>NaN</td>\n",
       "      <td>NaN</td>\n",
       "      <td>NaN</td>\n",
       "      <td>NaN</td>\n",
       "      <td>Polio</td>\n",
       "      <td>NaN</td>\n",
       "      <td>NaN</td>\n",
       "      <td>NaN</td>\n",
       "      <td>NaN</td>\n",
       "      <td>NaN</td>\n",
       "      <td>NaN</td>\n",
       "      <td>NaN</td>\n",
       "      <td>NaN</td>\n",
       "    </tr>\n",
       "    <tr>\n",
       "      <th>1</th>\n",
       "      <td>NaN</td>\n",
       "      <td>NaN</td>\n",
       "      <td>NaN</td>\n",
       "      <td>Enrollment PreK-12</td>\n",
       "      <td>Unduplicated Count  Non-compliant-Immunization...</td>\n",
       "      <td>Non-compliant with Physical Exam Only</td>\n",
       "      <td>Total Excluded</td>\n",
       "      <td>School Compliance %</td>\n",
       "      <td>Protected and in compliance</td>\n",
       "      <td>Religious objection</td>\n",
       "      <td>Medical reasons</td>\n",
       "      <td>Approved schedule</td>\n",
       "      <td>McKinney Vento Act</td>\n",
       "      <td>Unprotected and in noncompliance</td>\n",
       "      <td>Vaccination Acquired</td>\n",
       "      <td>No Vaccination</td>\n",
       "      <td>Protection %</td>\n",
       "    </tr>\n",
       "    <tr>\n",
       "      <th>2</th>\n",
       "      <td>010010010260001</td>\n",
       "      <td>Payson CUSD 1</td>\n",
       "      <td>Seymour High School</td>\n",
       "      <td>211</td>\n",
       "      <td>0</td>\n",
       "      <td>0</td>\n",
       "      <td>0</td>\n",
       "      <td>100.00%</td>\n",
       "      <td>211</td>\n",
       "      <td>0</td>\n",
       "      <td>0</td>\n",
       "      <td>0</td>\n",
       "      <td>0</td>\n",
       "      <td>0</td>\n",
       "      <td>211</td>\n",
       "      <td>0</td>\n",
       "      <td>100.00%</td>\n",
       "    </tr>\n",
       "    <tr>\n",
       "      <th>3</th>\n",
       "      <td>010010010262002</td>\n",
       "      <td>Payson CUSD 1</td>\n",
       "      <td>Seymour Elementary School</td>\n",
       "      <td>314</td>\n",
       "      <td>0</td>\n",
       "      <td>1</td>\n",
       "      <td>0</td>\n",
       "      <td>99.68%</td>\n",
       "      <td>314</td>\n",
       "      <td>0</td>\n",
       "      <td>0</td>\n",
       "      <td>0</td>\n",
       "      <td>0</td>\n",
       "      <td>0</td>\n",
       "      <td>314</td>\n",
       "      <td>0</td>\n",
       "      <td>100.00%</td>\n",
       "    </tr>\n",
       "    <tr>\n",
       "      <th>4</th>\n",
       "      <td>010010020260001</td>\n",
       "      <td>Liberty CUSD 2</td>\n",
       "      <td>Liberty High School</td>\n",
       "      <td>295</td>\n",
       "      <td>0</td>\n",
       "      <td>0</td>\n",
       "      <td>0</td>\n",
       "      <td>100.00%</td>\n",
       "      <td>295</td>\n",
       "      <td>0</td>\n",
       "      <td>0</td>\n",
       "      <td>0</td>\n",
       "      <td>0</td>\n",
       "      <td>0</td>\n",
       "      <td>295</td>\n",
       "      <td>0</td>\n",
       "      <td>100.00%</td>\n",
       "    </tr>\n",
       "  </tbody>\n",
       "</table>\n",
       "</div>"
      ],
      "text/plain": [
       "  Immunization Status of School-Age Children in Illinois for School Year 2014-2015  \\\n",
       "0        Region-County-District-Type-School (RCDTS)                                  \n",
       "1                                                NaN                                 \n",
       "2                                    010010010260001                                 \n",
       "3                                    010010010262002                                 \n",
       "4                                    010010020260001                                 \n",
       "\n",
       "       Unnamed: 1                 Unnamed: 2          Unnamed: 3  \\\n",
       "0        District                   Facility                 NaN   \n",
       "1             NaN                        NaN  Enrollment PreK-12   \n",
       "2   Payson CUSD 1        Seymour High School                 211   \n",
       "3   Payson CUSD 1  Seymour Elementary School                 314   \n",
       "4  Liberty CUSD 2        Liberty High School                 295   \n",
       "\n",
       "                                          Unnamed: 4  \\\n",
       "0                                                NaN   \n",
       "1  Unduplicated Count  Non-compliant-Immunization...   \n",
       "2                                                  0   \n",
       "3                                                  0   \n",
       "4                                                  0   \n",
       "\n",
       "                              Unnamed: 5      Unnamed: 6           Unnamed: 7  \\\n",
       "0                                    NaN             NaN                  NaN   \n",
       "1  Non-compliant with Physical Exam Only  Total Excluded  School Compliance %   \n",
       "2                                      0               0              100.00%   \n",
       "3                                      1               0               99.68%   \n",
       "4                                      0               0              100.00%   \n",
       "\n",
       "                    Unnamed: 8           Unnamed: 9       Unnamed: 10  \\\n",
       "0                        Polio                  NaN               NaN   \n",
       "1  Protected and in compliance  Religious objection  Medical reasons    \n",
       "2                          211                    0                 0   \n",
       "3                          314                    0                 0   \n",
       "4                          295                    0                 0   \n",
       "\n",
       "         Unnamed: 11         Unnamed: 12                       Unnamed: 13  \\\n",
       "0                NaN                 NaN                               NaN   \n",
       "1  Approved schedule  McKinney Vento Act  Unprotected and in noncompliance   \n",
       "2                  0                   0                                 0   \n",
       "3                  0                   0                                 0   \n",
       "4                  0                   0                                 0   \n",
       "\n",
       "            Unnamed: 14     Unnamed: 15   Unnamed: 16  \n",
       "0                   NaN             NaN           NaN  \n",
       "1  Vaccination Acquired  No Vaccination  Protection %  \n",
       "2                   211               0       100.00%  \n",
       "3                   314               0       100.00%  \n",
       "4                   295               0       100.00%  "
      ]
     },
     "execution_count": 20,
     "metadata": {},
     "output_type": "execute_result"
    }
   ],
   "source": [
    "df14 = pd.read_csv('../data/Immunization_14-15.csv')\n",
    "df14.head()"
   ]
  },
  {
   "cell_type": "markdown",
   "metadata": {},
   "source": [
    "There are header issues again, but this seems different. Looks like we want RCDTS from row 0, and the rest from row 1.\n",
    "\n",
    "Instead of what we did before, let's modify this by manually taking the raw data we want, then renaming the columns."
   ]
  },
  {
   "cell_type": "code",
   "execution_count": 21,
   "metadata": {
    "collapsed": false
   },
   "outputs": [
    {
     "data": {
      "text/html": [
       "<div>\n",
       "<table border=\"1\" class=\"dataframe\">\n",
       "  <thead>\n",
       "    <tr style=\"text-align: right;\">\n",
       "      <th></th>\n",
       "      <th>RCDTS</th>\n",
       "      <th>Enrolled</th>\n",
       "      <th>Protected</th>\n",
       "    </tr>\n",
       "  </thead>\n",
       "  <tbody>\n",
       "    <tr>\n",
       "      <th>2</th>\n",
       "      <td>010010010260001</td>\n",
       "      <td>211</td>\n",
       "      <td>211</td>\n",
       "    </tr>\n",
       "    <tr>\n",
       "      <th>3</th>\n",
       "      <td>010010010262002</td>\n",
       "      <td>314</td>\n",
       "      <td>314</td>\n",
       "    </tr>\n",
       "    <tr>\n",
       "      <th>4</th>\n",
       "      <td>010010020260001</td>\n",
       "      <td>295</td>\n",
       "      <td>295</td>\n",
       "    </tr>\n",
       "    <tr>\n",
       "      <th>5</th>\n",
       "      <td>010010020262002</td>\n",
       "      <td>356</td>\n",
       "      <td>355</td>\n",
       "    </tr>\n",
       "    <tr>\n",
       "      <th>6</th>\n",
       "      <td>01001002X060000</td>\n",
       "      <td>120</td>\n",
       "      <td>100</td>\n",
       "    </tr>\n",
       "  </tbody>\n",
       "</table>\n",
       "</div>"
      ],
      "text/plain": [
       "             RCDTS Enrolled Protected\n",
       "2  010010010260001      211       211\n",
       "3  010010010262002      314       314\n",
       "4  010010020260001      295       295\n",
       "5  010010020262002      356       355\n",
       "6  01001002X060000      120       100"
      ]
     },
     "execution_count": 21,
     "metadata": {},
     "output_type": "execute_result"
    }
   ],
   "source": [
    "# we want rows from 2 to the end, we want columns 0, 3, and 8\n",
    "df14 = df14.ix[2:, [0, 3, 8]]\n",
    "df14.dropna(inplace=True)\n",
    "# now customize and set the names we want for the columns\n",
    "new_column_names = ['RCDTS', 'Enrolled', 'Protected']\n",
    "df14.columns = new_column_names\n",
    "df14.head()"
   ]
  },
  {
   "cell_type": "markdown",
   "metadata": {},
   "source": [
    "So far so good. Lets run the summary stats again."
   ]
  },
  {
   "cell_type": "code",
   "execution_count": 23,
   "metadata": {
    "collapsed": false
   },
   "outputs": [
    {
     "data": {
      "text/html": [
       "<div>\n",
       "<table border=\"1\" class=\"dataframe\">\n",
       "  <thead>\n",
       "    <tr style=\"text-align: right;\">\n",
       "      <th></th>\n",
       "      <th>RCDTS</th>\n",
       "      <th>Enrolled</th>\n",
       "      <th>Protected</th>\n",
       "    </tr>\n",
       "  </thead>\n",
       "  <tbody>\n",
       "    <tr>\n",
       "      <th>count</th>\n",
       "      <td>4874</td>\n",
       "      <td>4874</td>\n",
       "      <td>4874</td>\n",
       "    </tr>\n",
       "    <tr>\n",
       "      <th>unique</th>\n",
       "      <td>4874</td>\n",
       "      <td>1194</td>\n",
       "      <td>1177</td>\n",
       "    </tr>\n",
       "    <tr>\n",
       "      <th>top</th>\n",
       "      <td>310450460222009</td>\n",
       "      <td>301</td>\n",
       "      <td>165</td>\n",
       "    </tr>\n",
       "    <tr>\n",
       "      <th>freq</th>\n",
       "      <td>1</td>\n",
       "      <td>17</td>\n",
       "      <td>16</td>\n",
       "    </tr>\n",
       "  </tbody>\n",
       "</table>\n",
       "</div>"
      ],
      "text/plain": [
       "                  RCDTS Enrolled Protected\n",
       "count              4874     4874      4874\n",
       "unique             4874     1194      1177\n",
       "top     310450460222009      301       165\n",
       "freq                  1       17        16"
      ]
     },
     "execution_count": 23,
     "metadata": {},
     "output_type": "execute_result"
    }
   ],
   "source": [
    "df14.describe()"
   ]
  },
  {
   "cell_type": "code",
   "execution_count": 24,
   "metadata": {
    "collapsed": false
   },
   "outputs": [
    {
     "data": {
      "text/plain": [
       "RCDTS        object\n",
       "Enrolled     object\n",
       "Protected    object\n",
       "dtype: object"
      ]
     },
     "execution_count": 24,
     "metadata": {},
     "output_type": "execute_result"
    }
   ],
   "source": [
    "df14.dtypes"
   ]
  },
  {
   "cell_type": "markdown",
   "metadata": {},
   "source": [
    "Objects again..."
   ]
  },
  {
   "cell_type": "code",
   "execution_count": 25,
   "metadata": {
    "collapsed": false
   },
   "outputs": [
    {
     "data": {
      "text/html": [
       "<div>\n",
       "<table border=\"1\" class=\"dataframe\">\n",
       "  <thead>\n",
       "    <tr style=\"text-align: right;\">\n",
       "      <th></th>\n",
       "      <th>RCDTS</th>\n",
       "      <th>Enrolled</th>\n",
       "      <th>Protected</th>\n",
       "    </tr>\n",
       "  </thead>\n",
       "  <tbody>\n",
       "    <tr>\n",
       "      <th>2</th>\n",
       "      <td>010010010260001</td>\n",
       "      <td>211</td>\n",
       "      <td>211</td>\n",
       "    </tr>\n",
       "    <tr>\n",
       "      <th>3</th>\n",
       "      <td>010010010262002</td>\n",
       "      <td>314</td>\n",
       "      <td>314</td>\n",
       "    </tr>\n",
       "    <tr>\n",
       "      <th>4</th>\n",
       "      <td>010010020260001</td>\n",
       "      <td>295</td>\n",
       "      <td>295</td>\n",
       "    </tr>\n",
       "    <tr>\n",
       "      <th>5</th>\n",
       "      <td>010010020262002</td>\n",
       "      <td>356</td>\n",
       "      <td>355</td>\n",
       "    </tr>\n",
       "    <tr>\n",
       "      <th>6</th>\n",
       "      <td>01001002X060000</td>\n",
       "      <td>120</td>\n",
       "      <td>100</td>\n",
       "    </tr>\n",
       "  </tbody>\n",
       "</table>\n",
       "</div>"
      ],
      "text/plain": [
       "             RCDTS  Enrolled  Protected\n",
       "2  010010010260001       211        211\n",
       "3  010010010262002       314        314\n",
       "4  010010020260001       295        295\n",
       "5  010010020262002       356        355\n",
       "6  01001002X060000       120        100"
      ]
     },
     "execution_count": 25,
     "metadata": {},
     "output_type": "execute_result"
    }
   ],
   "source": [
    "cols = ['Enrolled', 'Protected']\n",
    "df14[cols] = df14[cols].applymap(lambda x: int(x.replace(',', '')))\n",
    "df14.head()"
   ]
  },
  {
   "cell_type": "code",
   "execution_count": 26,
   "metadata": {
    "collapsed": false
   },
   "outputs": [
    {
     "data": {
      "text/html": [
       "<div>\n",
       "<table border=\"1\" class=\"dataframe\">\n",
       "  <thead>\n",
       "    <tr style=\"text-align: right;\">\n",
       "      <th></th>\n",
       "      <th>RCDTS</th>\n",
       "      <th>Enrolled</th>\n",
       "      <th>Protected</th>\n",
       "    </tr>\n",
       "  </thead>\n",
       "  <tbody>\n",
       "    <tr>\n",
       "      <th>count</th>\n",
       "      <td>4874</td>\n",
       "      <td>4874.000000</td>\n",
       "      <td>4874.000000</td>\n",
       "    </tr>\n",
       "    <tr>\n",
       "      <th>unique</th>\n",
       "      <td>4874</td>\n",
       "      <td>NaN</td>\n",
       "      <td>NaN</td>\n",
       "    </tr>\n",
       "    <tr>\n",
       "      <th>top</th>\n",
       "      <td>310450460222009</td>\n",
       "      <td>NaN</td>\n",
       "      <td>NaN</td>\n",
       "    </tr>\n",
       "    <tr>\n",
       "      <th>freq</th>\n",
       "      <td>1</td>\n",
       "      <td>NaN</td>\n",
       "      <td>NaN</td>\n",
       "    </tr>\n",
       "    <tr>\n",
       "      <th>mean</th>\n",
       "      <td>NaN</td>\n",
       "      <td>916.929011</td>\n",
       "      <td>901.335248</td>\n",
       "    </tr>\n",
       "    <tr>\n",
       "      <th>std</th>\n",
       "      <td>NaN</td>\n",
       "      <td>32004.421755</td>\n",
       "      <td>31460.188023</td>\n",
       "    </tr>\n",
       "    <tr>\n",
       "      <th>min</th>\n",
       "      <td>NaN</td>\n",
       "      <td>1.000000</td>\n",
       "      <td>0.000000</td>\n",
       "    </tr>\n",
       "    <tr>\n",
       "      <th>25%</th>\n",
       "      <td>NaN</td>\n",
       "      <td>200.000000</td>\n",
       "      <td>197.000000</td>\n",
       "    </tr>\n",
       "    <tr>\n",
       "      <th>50%</th>\n",
       "      <td>NaN</td>\n",
       "      <td>359.000000</td>\n",
       "      <td>351.000000</td>\n",
       "    </tr>\n",
       "    <tr>\n",
       "      <th>75%</th>\n",
       "      <td>NaN</td>\n",
       "      <td>546.750000</td>\n",
       "      <td>536.750000</td>\n",
       "    </tr>\n",
       "    <tr>\n",
       "      <th>max</th>\n",
       "      <td>NaN</td>\n",
       "      <td>2234556.000000</td>\n",
       "      <td>2196554.000000</td>\n",
       "    </tr>\n",
       "  </tbody>\n",
       "</table>\n",
       "</div>"
      ],
      "text/plain": [
       "                  RCDTS        Enrolled       Protected\n",
       "count              4874     4874.000000     4874.000000\n",
       "unique             4874             NaN             NaN\n",
       "top     310450460222009             NaN             NaN\n",
       "freq                  1             NaN             NaN\n",
       "mean                NaN      916.929011      901.335248\n",
       "std                 NaN    32004.421755    31460.188023\n",
       "min                 NaN        1.000000        0.000000\n",
       "25%                 NaN      200.000000      197.000000\n",
       "50%                 NaN      359.000000      351.000000\n",
       "75%                 NaN      546.750000      536.750000\n",
       "max                 NaN  2234556.000000  2196554.000000"
      ]
     },
     "execution_count": 26,
     "metadata": {},
     "output_type": "execute_result"
    }
   ],
   "source": [
    "df14.describe(include='all')"
   ]
  },
  {
   "cell_type": "markdown",
   "metadata": {},
   "source": [
    "That max looks crazy. What RCDTS does it belong to?"
   ]
  },
  {
   "cell_type": "code",
   "execution_count": 27,
   "metadata": {
    "collapsed": false
   },
   "outputs": [
    {
     "data": {
      "text/html": [
       "<div>\n",
       "<table border=\"1\" class=\"dataframe\">\n",
       "  <thead>\n",
       "    <tr style=\"text-align: right;\">\n",
       "      <th></th>\n",
       "      <th>RCDTS</th>\n",
       "      <th>Enrolled</th>\n",
       "      <th>Protected</th>\n",
       "    </tr>\n",
       "  </thead>\n",
       "  <tbody>\n",
       "    <tr>\n",
       "      <th>4876</th>\n",
       "      <td>Total</td>\n",
       "      <td>2234556</td>\n",
       "      <td>2196554</td>\n",
       "    </tr>\n",
       "    <tr>\n",
       "      <th>1542</th>\n",
       "      <td>15016299025006C</td>\n",
       "      <td>10127</td>\n",
       "      <td>10044</td>\n",
       "    </tr>\n",
       "    <tr>\n",
       "      <th>1614</th>\n",
       "      <td>15016299025201C</td>\n",
       "      <td>8338</td>\n",
       "      <td>8100</td>\n",
       "    </tr>\n",
       "    <tr>\n",
       "      <th>1625</th>\n",
       "      <td>15016299025205C</td>\n",
       "      <td>7901</td>\n",
       "      <td>7774</td>\n",
       "    </tr>\n",
       "    <tr>\n",
       "      <th>3471</th>\n",
       "      <td>340490600260022</td>\n",
       "      <td>4308</td>\n",
       "      <td>4205</td>\n",
       "    </tr>\n",
       "  </tbody>\n",
       "</table>\n",
       "</div>"
      ],
      "text/plain": [
       "                RCDTS  Enrolled  Protected\n",
       "4876            Total   2234556    2196554\n",
       "1542  15016299025006C     10127      10044\n",
       "1614  15016299025201C      8338       8100\n",
       "1625  15016299025205C      7901       7774\n",
       "3471  340490600260022      4308       4205"
      ]
     },
     "execution_count": 27,
     "metadata": {},
     "output_type": "execute_result"
    }
   ],
   "source": [
    "df14.sort(columns='Enrolled', ascending=False).head()"
   ]
  },
  {
   "cell_type": "markdown",
   "metadata": {},
   "source": [
    "That's not a valid RCDTS... Looks like we can just dump the row with id=4876 using the *drop()* method."
   ]
  },
  {
   "cell_type": "code",
   "execution_count": 28,
   "metadata": {
    "collapsed": false
   },
   "outputs": [],
   "source": [
    "df14 = df14.drop(4876, axis=0)"
   ]
  },
  {
   "cell_type": "code",
   "execution_count": 29,
   "metadata": {
    "collapsed": false
   },
   "outputs": [
    {
     "data": {
      "text/html": [
       "<div>\n",
       "<table border=\"1\" class=\"dataframe\">\n",
       "  <thead>\n",
       "    <tr style=\"text-align: right;\">\n",
       "      <th></th>\n",
       "      <th>RCDTS</th>\n",
       "      <th>Enrolled</th>\n",
       "      <th>Protected</th>\n",
       "    </tr>\n",
       "  </thead>\n",
       "  <tbody>\n",
       "    <tr>\n",
       "      <th>count</th>\n",
       "      <td>4873</td>\n",
       "      <td>4873.000000</td>\n",
       "      <td>4873.000000</td>\n",
       "    </tr>\n",
       "    <tr>\n",
       "      <th>unique</th>\n",
       "      <td>4873</td>\n",
       "      <td>NaN</td>\n",
       "      <td>NaN</td>\n",
       "    </tr>\n",
       "    <tr>\n",
       "      <th>top</th>\n",
       "      <td>310450460222009</td>\n",
       "      <td>NaN</td>\n",
       "      <td>NaN</td>\n",
       "    </tr>\n",
       "    <tr>\n",
       "      <th>freq</th>\n",
       "      <td>1</td>\n",
       "      <td>NaN</td>\n",
       "      <td>NaN</td>\n",
       "    </tr>\n",
       "    <tr>\n",
       "      <th>mean</th>\n",
       "      <td>NaN</td>\n",
       "      <td>458.558588</td>\n",
       "      <td>450.760107</td>\n",
       "    </tr>\n",
       "    <tr>\n",
       "      <th>std</th>\n",
       "      <td>NaN</td>\n",
       "      <td>488.745116</td>\n",
       "      <td>483.684059</td>\n",
       "    </tr>\n",
       "    <tr>\n",
       "      <th>min</th>\n",
       "      <td>NaN</td>\n",
       "      <td>1.000000</td>\n",
       "      <td>0.000000</td>\n",
       "    </tr>\n",
       "    <tr>\n",
       "      <th>25%</th>\n",
       "      <td>NaN</td>\n",
       "      <td>200.000000</td>\n",
       "      <td>197.000000</td>\n",
       "    </tr>\n",
       "    <tr>\n",
       "      <th>50%</th>\n",
       "      <td>NaN</td>\n",
       "      <td>359.000000</td>\n",
       "      <td>351.000000</td>\n",
       "    </tr>\n",
       "    <tr>\n",
       "      <th>75%</th>\n",
       "      <td>NaN</td>\n",
       "      <td>546.000000</td>\n",
       "      <td>536.000000</td>\n",
       "    </tr>\n",
       "    <tr>\n",
       "      <th>max</th>\n",
       "      <td>NaN</td>\n",
       "      <td>10127.000000</td>\n",
       "      <td>10044.000000</td>\n",
       "    </tr>\n",
       "  </tbody>\n",
       "</table>\n",
       "</div>"
      ],
      "text/plain": [
       "                  RCDTS      Enrolled     Protected\n",
       "count              4873   4873.000000   4873.000000\n",
       "unique             4873           NaN           NaN\n",
       "top     310450460222009           NaN           NaN\n",
       "freq                  1           NaN           NaN\n",
       "mean                NaN    458.558588    450.760107\n",
       "std                 NaN    488.745116    483.684059\n",
       "min                 NaN      1.000000      0.000000\n",
       "25%                 NaN    200.000000    197.000000\n",
       "50%                 NaN    359.000000    351.000000\n",
       "75%                 NaN    546.000000    536.000000\n",
       "max                 NaN  10127.000000  10044.000000"
      ]
     },
     "execution_count": 29,
     "metadata": {},
     "output_type": "execute_result"
    }
   ],
   "source": [
    "df14.describe(include='all')"
   ]
  },
  {
   "cell_type": "markdown",
   "metadata": {},
   "source": [
    "Much better.\n",
    "\n",
    "And that should be the last fix for our data import."
   ]
  },
  {
   "cell_type": "markdown",
   "metadata": {},
   "source": [
    "## Data Concatenation"
   ]
  },
  {
   "cell_type": "markdown",
   "metadata": {},
   "source": [
    "Next we will concatenate the tables to create a single table that will contain all the necessary data for our analysis.\n",
    "\n",
    "We noticed from above that all of the tables have different columns names. This will have to be fixed so that the tables can be joined easily.\n",
    "\n",
    "Tables for 14-15 and 09-10 both only have 3 columns so let's merge those first.\n",
    "\n",
    "However, to keep track of where the data comes from, let's add a \"Year\" column to both.\n",
    "\n",
    "Adding a column is similar to adding a new field and dictionary i.e. using square brackets."
   ]
  },
  {
   "cell_type": "code",
   "execution_count": 30,
   "metadata": {
    "collapsed": false
   },
   "outputs": [
    {
     "data": {
      "text/html": [
       "<div>\n",
       "<table border=\"1\" class=\"dataframe\">\n",
       "  <thead>\n",
       "    <tr style=\"text-align: right;\">\n",
       "      <th></th>\n",
       "      <th>RCDTS</th>\n",
       "      <th>Enrolled</th>\n",
       "      <th>Protected</th>\n",
       "      <th>Year</th>\n",
       "    </tr>\n",
       "  </thead>\n",
       "  <tbody>\n",
       "    <tr>\n",
       "      <th>2</th>\n",
       "      <td>010010010260001</td>\n",
       "      <td>211</td>\n",
       "      <td>211</td>\n",
       "      <td>2014</td>\n",
       "    </tr>\n",
       "    <tr>\n",
       "      <th>3</th>\n",
       "      <td>010010010262002</td>\n",
       "      <td>314</td>\n",
       "      <td>314</td>\n",
       "      <td>2014</td>\n",
       "    </tr>\n",
       "    <tr>\n",
       "      <th>4</th>\n",
       "      <td>010010020260001</td>\n",
       "      <td>295</td>\n",
       "      <td>295</td>\n",
       "      <td>2014</td>\n",
       "    </tr>\n",
       "    <tr>\n",
       "      <th>5</th>\n",
       "      <td>010010020262002</td>\n",
       "      <td>356</td>\n",
       "      <td>355</td>\n",
       "      <td>2014</td>\n",
       "    </tr>\n",
       "    <tr>\n",
       "      <th>6</th>\n",
       "      <td>01001002X060000</td>\n",
       "      <td>120</td>\n",
       "      <td>100</td>\n",
       "      <td>2014</td>\n",
       "    </tr>\n",
       "  </tbody>\n",
       "</table>\n",
       "</div>"
      ],
      "text/plain": [
       "             RCDTS  Enrolled  Protected  Year\n",
       "2  010010010260001       211        211  2014\n",
       "3  010010010262002       314        314  2014\n",
       "4  010010020260001       295        295  2014\n",
       "5  010010020262002       356        355  2014\n",
       "6  01001002X060000       120        100  2014"
      ]
     },
     "execution_count": 30,
     "metadata": {},
     "output_type": "execute_result"
    }
   ],
   "source": [
    "# add year column with correct values\n",
    "df14['Year'] = 2014\n",
    "df14.head()"
   ]
  },
  {
   "cell_type": "code",
   "execution_count": 31,
   "metadata": {
    "collapsed": false
   },
   "outputs": [
    {
     "data": {
      "text/html": [
       "<div>\n",
       "<table border=\"1\" class=\"dataframe\">\n",
       "  <thead>\n",
       "    <tr style=\"text-align: right;\">\n",
       "      <th></th>\n",
       "      <th>RCDTS</th>\n",
       "      <th>Enrollment</th>\n",
       "      <th>PolioProt</th>\n",
       "      <th>Year</th>\n",
       "    </tr>\n",
       "  </thead>\n",
       "  <tbody>\n",
       "    <tr>\n",
       "      <th>0</th>\n",
       "      <td>140161630022008</td>\n",
       "      <td>234</td>\n",
       "      <td>232</td>\n",
       "      <td>2009</td>\n",
       "    </tr>\n",
       "    <tr>\n",
       "      <th>1</th>\n",
       "      <td>540921180243104</td>\n",
       "      <td>19</td>\n",
       "      <td>0</td>\n",
       "      <td>2009</td>\n",
       "    </tr>\n",
       "    <tr>\n",
       "      <th>2</th>\n",
       "      <td>140162180160007</td>\n",
       "      <td>1944</td>\n",
       "      <td>1942</td>\n",
       "      <td>2009</td>\n",
       "    </tr>\n",
       "    <tr>\n",
       "      <th>3</th>\n",
       "      <td>041012050252059</td>\n",
       "      <td>307</td>\n",
       "      <td>307</td>\n",
       "      <td>2009</td>\n",
       "    </tr>\n",
       "    <tr>\n",
       "      <th>4</th>\n",
       "      <td>140160960022001</td>\n",
       "      <td>334</td>\n",
       "      <td>330</td>\n",
       "      <td>2009</td>\n",
       "    </tr>\n",
       "  </tbody>\n",
       "</table>\n",
       "</div>"
      ],
      "text/plain": [
       "             RCDTS  Enrollment  PolioProt  Year\n",
       "0  140161630022008         234        232  2009\n",
       "1  540921180243104          19          0  2009\n",
       "2  140162180160007        1944       1942  2009\n",
       "3  041012050252059         307        307  2009\n",
       "4  140160960022001         334        330  2009"
      ]
     },
     "execution_count": 31,
     "metadata": {},
     "output_type": "execute_result"
    }
   ],
   "source": [
    "df09['Year'] = 2009\n",
    "df09.head()"
   ]
  },
  {
   "cell_type": "markdown",
   "metadata": {},
   "source": [
    "Now we rename the columns so that the DataFrames can be easily concatenated."
   ]
  },
  {
   "cell_type": "code",
   "execution_count": 32,
   "metadata": {
    "collapsed": true
   },
   "outputs": [],
   "source": [
    "# rename columns\n",
    "columns = ['rcdts', 'enrollment', 'protected', 'year']\n",
    "df09.columns = columns\n",
    "df14.columns = columns"
   ]
  },
  {
   "cell_type": "code",
   "execution_count": 33,
   "metadata": {
    "collapsed": false
   },
   "outputs": [
    {
     "name": "stdout",
     "output_type": "stream",
     "text": [
      "             rcdts  enrollment  protected  year\n",
      "2  010010010260001         211        211  2014\n",
      "3  010010010262002         314        314  2014\n",
      "4  010010020260001         295        295  2014\n",
      "5  010010020262002         356        355  2014\n",
      "6  01001002X060000         120        100  2014\n",
      "                rcdts  enrollment  protected  year\n",
      "5016  40056002X060000         117        105  2009\n",
      "5017  41057030X060000         319        312  2009\n",
      "5018  44063015X060000         344        343  2009\n",
      "5019  56099028X060000         124        119  2009\n",
      "5020  340491260170001        2640       2609  2009\n"
     ]
    }
   ],
   "source": [
    "# concatenate\n",
    "df = pd.concat([df14, df09])\n",
    "print df[:5] # print first 5, same functionally as head()\n",
    "print df[-5:] # print last 5"
   ]
  },
  {
   "cell_type": "markdown",
   "metadata": {},
   "source": [
    "Great, looks like both our datasets are here then.\n",
    "\n",
    "Time to join the table from year 04-05.\n",
    "\n",
    "However, we remember that year 04-05 has 4 columns because school is broken out:"
   ]
  },
  {
   "cell_type": "code",
   "execution_count": 34,
   "metadata": {
    "collapsed": false
   },
   "outputs": [
    {
     "data": {
      "text/html": [
       "<div>\n",
       "<table border=\"1\" class=\"dataframe\">\n",
       "  <thead>\n",
       "    <tr style=\"text-align: right;\">\n",
       "      <th></th>\n",
       "      <th>RCDT</th>\n",
       "      <th>School</th>\n",
       "      <th>Total Sch. Enroll.</th>\n",
       "      <th>Polio Prot.</th>\n",
       "    </tr>\n",
       "  </thead>\n",
       "  <tbody>\n",
       "    <tr>\n",
       "      <th>1</th>\n",
       "      <td>01001001026</td>\n",
       "      <td>0001</td>\n",
       "      <td>279</td>\n",
       "      <td>277</td>\n",
       "    </tr>\n",
       "    <tr>\n",
       "      <th>2</th>\n",
       "      <td>01001002026</td>\n",
       "      <td>2002</td>\n",
       "      <td>278</td>\n",
       "      <td>276</td>\n",
       "    </tr>\n",
       "    <tr>\n",
       "      <th>3</th>\n",
       "      <td>01001002026</td>\n",
       "      <td>2002</td>\n",
       "      <td>419</td>\n",
       "      <td>419</td>\n",
       "    </tr>\n",
       "    <tr>\n",
       "      <th>4</th>\n",
       "      <td>01001002X06</td>\n",
       "      <td>n/a</td>\n",
       "      <td>197</td>\n",
       "      <td>193</td>\n",
       "    </tr>\n",
       "    <tr>\n",
       "      <th>5</th>\n",
       "      <td>01001003026</td>\n",
       "      <td>1001</td>\n",
       "      <td>330</td>\n",
       "      <td>329</td>\n",
       "    </tr>\n",
       "  </tbody>\n",
       "</table>\n",
       "</div>"
      ],
      "text/plain": [
       "          RCDT School  Total Sch. Enroll.  Polio Prot.\n",
       "1  01001001026   0001                 279          277\n",
       "2  01001002026   2002                 278          276\n",
       "3  01001002026   2002                 419          419\n",
       "4  01001002X06    n/a                 197          193\n",
       "5  01001003026   1001                 330          329"
      ]
     },
     "execution_count": 34,
     "metadata": {},
     "output_type": "execute_result"
    }
   ],
   "source": [
    "df04.head()"
   ]
  },
  {
   "cell_type": "markdown",
   "metadata": {},
   "source": [
    "Another thing we notice is that the years 04-05 have 'n/a' values for School... this poses a problem for future analyses. Without being sure of the School values, we're not comfortable comparing this year with the other 2 years.\n",
    "\n",
    "After much debate, we decided to remove school completely from our current analysis.\n",
    "\n",
    "Unfortunately, this means we will have to remove the School values from our other datasets."
   ]
  },
  {
   "cell_type": "code",
   "execution_count": 35,
   "metadata": {
    "collapsed": false
   },
   "outputs": [
    {
     "data": {
      "text/html": [
       "<div>\n",
       "<table border=\"1\" class=\"dataframe\">\n",
       "  <thead>\n",
       "    <tr style=\"text-align: right;\">\n",
       "      <th></th>\n",
       "      <th>rcdts</th>\n",
       "      <th>rcdt</th>\n",
       "      <th>enrollment</th>\n",
       "      <th>protected</th>\n",
       "      <th>year</th>\n",
       "    </tr>\n",
       "  </thead>\n",
       "  <tbody>\n",
       "    <tr>\n",
       "      <th>2</th>\n",
       "      <td>010010010260001</td>\n",
       "      <td>01001001026</td>\n",
       "      <td>211</td>\n",
       "      <td>211</td>\n",
       "      <td>2014</td>\n",
       "    </tr>\n",
       "    <tr>\n",
       "      <th>3</th>\n",
       "      <td>010010010262002</td>\n",
       "      <td>01001001026</td>\n",
       "      <td>314</td>\n",
       "      <td>314</td>\n",
       "      <td>2014</td>\n",
       "    </tr>\n",
       "    <tr>\n",
       "      <th>4</th>\n",
       "      <td>010010020260001</td>\n",
       "      <td>01001002026</td>\n",
       "      <td>295</td>\n",
       "      <td>295</td>\n",
       "      <td>2014</td>\n",
       "    </tr>\n",
       "    <tr>\n",
       "      <th>5</th>\n",
       "      <td>010010020262002</td>\n",
       "      <td>01001002026</td>\n",
       "      <td>356</td>\n",
       "      <td>355</td>\n",
       "      <td>2014</td>\n",
       "    </tr>\n",
       "    <tr>\n",
       "      <th>6</th>\n",
       "      <td>01001002X060000</td>\n",
       "      <td>01001002X06</td>\n",
       "      <td>120</td>\n",
       "      <td>100</td>\n",
       "      <td>2014</td>\n",
       "    </tr>\n",
       "  </tbody>\n",
       "</table>\n",
       "</div>"
      ],
      "text/plain": [
       "             rcdts         rcdt  enrollment  protected  year\n",
       "2  010010010260001  01001001026         211        211  2014\n",
       "3  010010010262002  01001001026         314        314  2014\n",
       "4  010010020260001  01001002026         295        295  2014\n",
       "5  010010020262002  01001002026         356        355  2014\n",
       "6  01001002X060000  01001002X06         120        100  2014"
      ]
     },
     "execution_count": 35,
     "metadata": {},
     "output_type": "execute_result"
    }
   ],
   "source": [
    "df.insert(1, 'rcdt', 0)\n",
    "df['rcdt'] = df['rcdts'].apply(lambda x: x[:-4]) # use apply here because Series does not have an applymap() method\n",
    "df.head()"
   ]
  },
  {
   "cell_type": "markdown",
   "metadata": {},
   "source": [
    "Now that we have the RCDT column, we can drop the origina RCDTS column."
   ]
  },
  {
   "cell_type": "code",
   "execution_count": 37,
   "metadata": {
    "collapsed": false
   },
   "outputs": [
    {
     "data": {
      "text/html": [
       "<div>\n",
       "<table border=\"1\" class=\"dataframe\">\n",
       "  <thead>\n",
       "    <tr style=\"text-align: right;\">\n",
       "      <th></th>\n",
       "      <th>rcdt</th>\n",
       "      <th>enrollment</th>\n",
       "      <th>protected</th>\n",
       "      <th>year</th>\n",
       "    </tr>\n",
       "  </thead>\n",
       "  <tbody>\n",
       "    <tr>\n",
       "      <th>2</th>\n",
       "      <td>01001001026</td>\n",
       "      <td>211</td>\n",
       "      <td>211</td>\n",
       "      <td>2014</td>\n",
       "    </tr>\n",
       "    <tr>\n",
       "      <th>3</th>\n",
       "      <td>01001001026</td>\n",
       "      <td>314</td>\n",
       "      <td>314</td>\n",
       "      <td>2014</td>\n",
       "    </tr>\n",
       "    <tr>\n",
       "      <th>4</th>\n",
       "      <td>01001002026</td>\n",
       "      <td>295</td>\n",
       "      <td>295</td>\n",
       "      <td>2014</td>\n",
       "    </tr>\n",
       "    <tr>\n",
       "      <th>5</th>\n",
       "      <td>01001002026</td>\n",
       "      <td>356</td>\n",
       "      <td>355</td>\n",
       "      <td>2014</td>\n",
       "    </tr>\n",
       "    <tr>\n",
       "      <th>6</th>\n",
       "      <td>01001002X06</td>\n",
       "      <td>120</td>\n",
       "      <td>100</td>\n",
       "      <td>2014</td>\n",
       "    </tr>\n",
       "  </tbody>\n",
       "</table>\n",
       "</div>"
      ],
      "text/plain": [
       "          rcdt  enrollment  protected  year\n",
       "2  01001001026         211        211  2014\n",
       "3  01001001026         314        314  2014\n",
       "4  01001002026         295        295  2014\n",
       "5  01001002026         356        355  2014\n",
       "6  01001002X06         120        100  2014"
      ]
     },
     "execution_count": 37,
     "metadata": {},
     "output_type": "execute_result"
    }
   ],
   "source": [
    "# drop old rcdts column\n",
    "df.drop('rcdts', axis=1, inplace=True)\n",
    "df.head()"
   ]
  },
  {
   "cell_type": "markdown",
   "metadata": {},
   "source": [
    "Now with the master dataset prepped, let's clean up the 04-05 dataset."
   ]
  },
  {
   "cell_type": "code",
   "execution_count": 38,
   "metadata": {
    "collapsed": false
   },
   "outputs": [],
   "source": [
    "columns_we_want = ['rcdt', 'enrollment', 'protected', 'year']"
   ]
  },
  {
   "cell_type": "code",
   "execution_count": 39,
   "metadata": {
    "collapsed": false
   },
   "outputs": [
    {
     "data": {
      "text/html": [
       "<div>\n",
       "<table border=\"1\" class=\"dataframe\">\n",
       "  <thead>\n",
       "    <tr style=\"text-align: right;\">\n",
       "      <th></th>\n",
       "      <th>rcdt</th>\n",
       "      <th>enrollment</th>\n",
       "      <th>protected</th>\n",
       "      <th>year</th>\n",
       "    </tr>\n",
       "  </thead>\n",
       "  <tbody>\n",
       "    <tr>\n",
       "      <th>1</th>\n",
       "      <td>01001001026</td>\n",
       "      <td>279</td>\n",
       "      <td>277</td>\n",
       "      <td>2004</td>\n",
       "    </tr>\n",
       "    <tr>\n",
       "      <th>2</th>\n",
       "      <td>01001002026</td>\n",
       "      <td>278</td>\n",
       "      <td>276</td>\n",
       "      <td>2004</td>\n",
       "    </tr>\n",
       "    <tr>\n",
       "      <th>3</th>\n",
       "      <td>01001002026</td>\n",
       "      <td>419</td>\n",
       "      <td>419</td>\n",
       "      <td>2004</td>\n",
       "    </tr>\n",
       "    <tr>\n",
       "      <th>4</th>\n",
       "      <td>01001002X06</td>\n",
       "      <td>197</td>\n",
       "      <td>193</td>\n",
       "      <td>2004</td>\n",
       "    </tr>\n",
       "    <tr>\n",
       "      <th>5</th>\n",
       "      <td>01001003026</td>\n",
       "      <td>330</td>\n",
       "      <td>329</td>\n",
       "      <td>2004</td>\n",
       "    </tr>\n",
       "  </tbody>\n",
       "</table>\n",
       "</div>"
      ],
      "text/plain": [
       "          rcdt  enrollment  protected  year\n",
       "1  01001001026         279        277  2004\n",
       "2  01001002026         278        276  2004\n",
       "3  01001002026         419        419  2004\n",
       "4  01001002X06         197        193  2004\n",
       "5  01001003026         330        329  2004"
      ]
     },
     "execution_count": 39,
     "metadata": {},
     "output_type": "execute_result"
    }
   ],
   "source": [
    "# drop the school column\n",
    "df04.drop('School', axis=1, inplace=True)\n",
    "# add the year so we remember where this dataset came from\n",
    "df04['year'] = 2004\n",
    "# now rename the columns\n",
    "df04.columns = columns_we_want\n",
    "df04.head()"
   ]
  },
  {
   "cell_type": "markdown",
   "metadata": {},
   "source": [
    "Finally, let's concatenate this dataset into the master dataset, again using the *concat()* method."
   ]
  },
  {
   "cell_type": "code",
   "execution_count": 40,
   "metadata": {
    "collapsed": false
   },
   "outputs": [
    {
     "name": "stdout",
     "output_type": "stream",
     "text": [
      "          rcdt  enrollment  protected  year\n",
      "2  01001001026         211        211  2014\n",
      "3  01001001026         314        314  2014\n",
      "4  01001002026         295        295  2014\n",
      "5  01001002026         356        355  2014\n",
      "6  01001002X06         120        100  2014\n",
      "             rcdt  enrollment  protected  year\n",
      "5481  43102140026         484        478  2004\n",
      "5482  43102140026         406        389  2004\n",
      "5483  43102140026         103        103  2004\n",
      "5484  43102140026          80         78  2004\n",
      "5485  43102140026         515        504  2004\n"
     ]
    }
   ],
   "source": [
    "df = pd.concat([df, df04])\n",
    "print df[:5] # print first 5, same functionally as head()\n",
    "print df[-5:] # print last 5"
   ]
  },
  {
   "cell_type": "markdown",
   "metadata": {},
   "source": [
    "## Optional: Data Analysis"
   ]
  },
  {
   "cell_type": "markdown",
   "metadata": {},
   "source": [
    "The original goal of this analysis is to see if the protected percentage dropped over the years. Let's run this analysis, which shouldn't take long now that we have the data in the way we want it."
   ]
  },
  {
   "cell_type": "code",
   "execution_count": 41,
   "metadata": {
    "collapsed": false
   },
   "outputs": [
    {
     "data": {
      "text/html": [
       "<div>\n",
       "<table border=\"1\" class=\"dataframe\">\n",
       "  <thead>\n",
       "    <tr style=\"text-align: right;\">\n",
       "      <th></th>\n",
       "      <th>enrollment</th>\n",
       "      <th>protected</th>\n",
       "    </tr>\n",
       "    <tr>\n",
       "      <th>year</th>\n",
       "      <th></th>\n",
       "      <th></th>\n",
       "    </tr>\n",
       "  </thead>\n",
       "  <tbody>\n",
       "    <tr>\n",
       "      <th>2004</th>\n",
       "      <td>2356205</td>\n",
       "      <td>2331551</td>\n",
       "    </tr>\n",
       "    <tr>\n",
       "      <th>2009</th>\n",
       "      <td>2310406</td>\n",
       "      <td>2276155</td>\n",
       "    </tr>\n",
       "    <tr>\n",
       "      <th>2014</th>\n",
       "      <td>2234556</td>\n",
       "      <td>2196554</td>\n",
       "    </tr>\n",
       "  </tbody>\n",
       "</table>\n",
       "</div>"
      ],
      "text/plain": [
       "      enrollment  protected\n",
       "year                       \n",
       "2004     2356205    2331551\n",
       "2009     2310406    2276155\n",
       "2014     2234556    2196554"
      ]
     },
     "execution_count": 41,
     "metadata": {},
     "output_type": "execute_result"
    }
   ],
   "source": [
    "df_year = df.groupby('year').aggregate({'enrollment':'sum', 'protected':'sum'})\n",
    "df_year.head()"
   ]
  },
  {
   "cell_type": "code",
   "execution_count": 42,
   "metadata": {
    "collapsed": false
   },
   "outputs": [
    {
     "data": {
      "text/html": [
       "<div>\n",
       "<table border=\"1\" class=\"dataframe\">\n",
       "  <thead>\n",
       "    <tr style=\"text-align: right;\">\n",
       "      <th></th>\n",
       "      <th>enrollment</th>\n",
       "      <th>protected</th>\n",
       "      <th>prot_perc</th>\n",
       "    </tr>\n",
       "    <tr>\n",
       "      <th>year</th>\n",
       "      <th></th>\n",
       "      <th></th>\n",
       "      <th></th>\n",
       "    </tr>\n",
       "  </thead>\n",
       "  <tbody>\n",
       "    <tr>\n",
       "      <th>2004</th>\n",
       "      <td>2356205</td>\n",
       "      <td>2331551</td>\n",
       "      <td>0.989537</td>\n",
       "    </tr>\n",
       "    <tr>\n",
       "      <th>2009</th>\n",
       "      <td>2310406</td>\n",
       "      <td>2276155</td>\n",
       "      <td>0.985175</td>\n",
       "    </tr>\n",
       "    <tr>\n",
       "      <th>2014</th>\n",
       "      <td>2234556</td>\n",
       "      <td>2196554</td>\n",
       "      <td>0.982993</td>\n",
       "    </tr>\n",
       "  </tbody>\n",
       "</table>\n",
       "</div>"
      ],
      "text/plain": [
       "      enrollment  protected  prot_perc\n",
       "year                                  \n",
       "2004     2356205    2331551   0.989537\n",
       "2009     2310406    2276155   0.985175\n",
       "2014     2234556    2196554   0.982993"
      ]
     },
     "execution_count": 42,
     "metadata": {},
     "output_type": "execute_result"
    }
   ],
   "source": [
    "df_year['prot_perc'] = df_year['protected']/df_year['enrollment']\n",
    "df_year.head()"
   ]
  },
  {
   "cell_type": "code",
   "execution_count": 43,
   "metadata": {
    "collapsed": false
   },
   "outputs": [
    {
     "data": {
      "text/plain": [
       "<matplotlib.axes._subplots.AxesSubplot at 0x7fa1b9db8750>"
      ]
     },
     "execution_count": 43,
     "metadata": {},
     "output_type": "execute_result"
    },
    {
     "data": {
      "image/png": "[encoded data removed]",
      "text/plain": [
       "<matplotlib.figure.Figure at 0x7fa1b8b30fd0>"
      ]
     },
     "metadata": {},
     "output_type": "display_data"
    }
   ],
   "source": [
    "%matplotlib inline\n",
    "df_year.prot_perc.plot()"
   ]
  },
  {
   "cell_type": "markdown",
   "metadata": {
    "collapsed": true
   },
   "source": [
    "Looks like the rate of immunization has dropped a little over these years. However, with only 3 data points we can't be too certain. Best if we were to take the other years in between into account. That's for another time though."
   ]
  }
 ],
 "metadata": {
  "kernelspec": {
   "display_name": "Python 2",
   "language": "python",
   "name": "python2"
  },
  "language_info": {
   "codemirror_mode": {
    "name": "ipython",
    "version": 2
   },
   "file_extension": ".py",
   "mimetype": "text/x-python",
   "name": "python",
   "nbconvert_exporter": "python",
   "pygments_lexer": "ipython2",
   "version": "2.7.10"
  }
 },
 "nbformat": 4,
 "nbformat_minor": 0
}
